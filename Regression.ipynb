{
 "cells": [
  {
   "cell_type": "code",
   "execution_count": 16,
   "id": "8d117f9d",
   "metadata": {},
   "outputs": [],
   "source": [
    "import pandas as pd\n",
    "import numpy as np\n",
    "import matplotlib.pyplot as plt\n",
    "%matplotlib inline"
   ]
  },
  {
   "cell_type": "code",
   "execution_count": 17,
   "id": "b2ceb9cc",
   "metadata": {},
   "outputs": [],
   "source": [
    "dataset = pd.read_csv(r\"C:\\Users\\user\\Desktop\\Research\\reg1.csv\")"
   ]
  },
  {
   "cell_type": "code",
   "execution_count": 18,
   "id": "86bb8002",
   "metadata": {},
   "outputs": [
    {
     "data": {
      "text/plain": [
       "(96, 2)"
      ]
     },
     "execution_count": 18,
     "metadata": {},
     "output_type": "execute_result"
    }
   ],
   "source": [
    "dataset.shape"
   ]
  },
  {
   "cell_type": "code",
   "execution_count": 19,
   "id": "1001415c",
   "metadata": {},
   "outputs": [
    {
     "data": {
      "text/html": [
       "<div>\n",
       "<style scoped>\n",
       "    .dataframe tbody tr th:only-of-type {\n",
       "        vertical-align: middle;\n",
       "    }\n",
       "\n",
       "    .dataframe tbody tr th {\n",
       "        vertical-align: top;\n",
       "    }\n",
       "\n",
       "    .dataframe thead th {\n",
       "        text-align: right;\n",
       "    }\n",
       "</style>\n",
       "<table border=\"1\" class=\"dataframe\">\n",
       "  <thead>\n",
       "    <tr style=\"text-align: right;\">\n",
       "      <th></th>\n",
       "      <th>Production</th>\n",
       "      <th>Export</th>\n",
       "    </tr>\n",
       "  </thead>\n",
       "  <tbody>\n",
       "    <tr>\n",
       "      <th>0</th>\n",
       "      <td>21938.932</td>\n",
       "      <td>21349.746</td>\n",
       "    </tr>\n",
       "    <tr>\n",
       "      <th>1</th>\n",
       "      <td>17948.397</td>\n",
       "      <td>22821.578</td>\n",
       "    </tr>\n",
       "    <tr>\n",
       "      <th>2</th>\n",
       "      <td>13280.712</td>\n",
       "      <td>13258.752</td>\n",
       "    </tr>\n",
       "    <tr>\n",
       "      <th>3</th>\n",
       "      <td>20264.968</td>\n",
       "      <td>17723.181</td>\n",
       "    </tr>\n",
       "    <tr>\n",
       "      <th>4</th>\n",
       "      <td>28358.132</td>\n",
       "      <td>21961.228</td>\n",
       "    </tr>\n",
       "  </tbody>\n",
       "</table>\n",
       "</div>"
      ],
      "text/plain": [
       "   Production     Export\n",
       "0   21938.932  21349.746\n",
       "1   17948.397  22821.578\n",
       "2   13280.712  13258.752\n",
       "3   20264.968  17723.181\n",
       "4   28358.132  21961.228"
      ]
     },
     "execution_count": 19,
     "metadata": {},
     "output_type": "execute_result"
    }
   ],
   "source": [
    "dataset.head()"
   ]
  },
  {
   "cell_type": "code",
   "execution_count": 20,
   "id": "1f24d0cb",
   "metadata": {},
   "outputs": [
    {
     "data": {
      "text/html": [
       "<div>\n",
       "<style scoped>\n",
       "    .dataframe tbody tr th:only-of-type {\n",
       "        vertical-align: middle;\n",
       "    }\n",
       "\n",
       "    .dataframe tbody tr th {\n",
       "        vertical-align: top;\n",
       "    }\n",
       "\n",
       "    .dataframe thead th {\n",
       "        text-align: right;\n",
       "    }\n",
       "</style>\n",
       "<table border=\"1\" class=\"dataframe\">\n",
       "  <thead>\n",
       "    <tr style=\"text-align: right;\">\n",
       "      <th></th>\n",
       "      <th>Production</th>\n",
       "      <th>Export</th>\n",
       "    </tr>\n",
       "  </thead>\n",
       "  <tbody>\n",
       "    <tr>\n",
       "      <th>count</th>\n",
       "      <td>96.000000</td>\n",
       "      <td>96.000000</td>\n",
       "    </tr>\n",
       "    <tr>\n",
       "      <th>mean</th>\n",
       "      <td>25676.922990</td>\n",
       "      <td>23939.495125</td>\n",
       "    </tr>\n",
       "    <tr>\n",
       "      <th>std</th>\n",
       "      <td>4099.132874</td>\n",
       "      <td>2946.960643</td>\n",
       "    </tr>\n",
       "    <tr>\n",
       "      <th>min</th>\n",
       "      <td>13280.712000</td>\n",
       "      <td>13258.752000</td>\n",
       "    </tr>\n",
       "    <tr>\n",
       "      <th>25%</th>\n",
       "      <td>23395.053000</td>\n",
       "      <td>21930.721500</td>\n",
       "    </tr>\n",
       "    <tr>\n",
       "      <th>50%</th>\n",
       "      <td>25459.821000</td>\n",
       "      <td>23895.008500</td>\n",
       "    </tr>\n",
       "    <tr>\n",
       "      <th>75%</th>\n",
       "      <td>28205.395250</td>\n",
       "      <td>25790.775500</td>\n",
       "    </tr>\n",
       "    <tr>\n",
       "      <th>max</th>\n",
       "      <td>39045.037000</td>\n",
       "      <td>30507.102000</td>\n",
       "    </tr>\n",
       "  </tbody>\n",
       "</table>\n",
       "</div>"
      ],
      "text/plain": [
       "         Production        Export\n",
       "count     96.000000     96.000000\n",
       "mean   25676.922990  23939.495125\n",
       "std     4099.132874   2946.960643\n",
       "min    13280.712000  13258.752000\n",
       "25%    23395.053000  21930.721500\n",
       "50%    25459.821000  23895.008500\n",
       "75%    28205.395250  25790.775500\n",
       "max    39045.037000  30507.102000"
      ]
     },
     "execution_count": 20,
     "metadata": {},
     "output_type": "execute_result"
    }
   ],
   "source": [
    "dataset.describe()"
   ]
  },
  {
   "cell_type": "code",
   "execution_count": 21,
   "id": "eb9a1e63",
   "metadata": {},
   "outputs": [
    {
     "data": {
      "image/png": "[encoded data removed]",
      "text/plain": [
       "<Figure size 432x288 with 1 Axes>"
      ]
     },
     "metadata": {
      "needs_background": "light"
     },
     "output_type": "display_data"
    }
   ],
   "source": [
    "dataset.plot(x='Production', y='Export', style='o')\n",
    "plt.title('Production vs Export')\n",
    "plt.xlabel('Production')\n",
    "plt.ylabel('Export')\n",
    "plt.show()"
   ]
  },
  {
   "cell_type": "code",
   "execution_count": 22,
   "id": "e355821e",
   "metadata": {},
   "outputs": [],
   "source": [
    "X = dataset.iloc[:, :-1].values\n",
    "y = dataset.iloc[:, 1].values"
   ]
  },
  {
   "cell_type": "code",
   "execution_count": 23,
   "id": "aa725f28",
   "metadata": {},
   "outputs": [],
   "source": [
    "from sklearn.model_selection import train_test_split\n",
    "X_train, X_test, y_train, y_test = train_test_split(X, y, test_size=0.2, random_state=0)"
   ]
  },
  {
   "cell_type": "code",
   "execution_count": 24,
   "id": "4349d786",
   "metadata": {},
   "outputs": [],
   "source": [
    "dataset.columns = dataset.columns.str.strip()"
   ]
  },
  {
   "cell_type": "code",
   "execution_count": 25,
   "id": "fca3bc25",
   "metadata": {},
   "outputs": [
    {
     "data": {
      "text/plain": [
       "LinearRegression()"
      ]
     },
     "execution_count": 25,
     "metadata": {},
     "output_type": "execute_result"
    }
   ],
   "source": [
    "from sklearn.linear_model import LinearRegression\n",
    "regressor = LinearRegression()\n",
    "regressor.fit(X_train, y_train)"
   ]
  },
  {
   "cell_type": "code",
   "execution_count": 26,
   "id": "58f695ca",
   "metadata": {},
   "outputs": [
    {
     "data": {
      "text/plain": [
       "array([[21938.932],\n",
       "       [17948.397],\n",
       "       [13280.712],\n",
       "       [20264.968],\n",
       "       [28358.132],\n",
       "       [26847.631],\n",
       "       [26279.412],\n",
       "       [22427.201],\n",
       "       [21910.527],\n",
       "       [23457.397],\n",
       "       [24807.027],\n",
       "       [28504.451],\n",
       "       [23208.021],\n",
       "       [21595.103],\n",
       "       [28154.483],\n",
       "       [23623.174],\n",
       "       [34109.169],\n",
       "       [27195.798],\n",
       "       [25271.023],\n",
       "       [26084.393],\n",
       "       [20813.459],\n",
       "       [21737.325],\n",
       "       [23964.024],\n",
       "       [21893.818],\n",
       "       [24270.972],\n",
       "       [21056.301],\n",
       "       [28502.462],\n",
       "       [27911.426],\n",
       "       [32820.83 ],\n",
       "       [23031.402],\n",
       "       [23846.024],\n",
       "       [21370.068],\n",
       "       [19330.946],\n",
       "       [29616.762],\n",
       "       [24723.762],\n",
       "       [26004.171],\n",
       "       [21255.751],\n",
       "       [18462.303],\n",
       "       [26433.778],\n",
       "       [32790.092],\n",
       "       [29458.996],\n",
       "       [27102.505],\n",
       "       [25596.857],\n",
       "       [24683.787],\n",
       "       [25459.821],\n",
       "       [25468.607],\n",
       "       [24773.39 ],\n",
       "       [23503.473],\n",
       "       [21255.751],\n",
       "       [18462.303],\n",
       "       [26433.778],\n",
       "       [32790.092],\n",
       "       [29458.996],\n",
       "       [27102.505],\n",
       "       [25596.857],\n",
       "       [24683.787],\n",
       "       [25459.821],\n",
       "       [25468.607],\n",
       "       [24773.39 ],\n",
       "       [23503.473],\n",
       "       [21255.751],\n",
       "       [18462.303],\n",
       "       [26433.778],\n",
       "       [32790.092],\n",
       "       [29458.996],\n",
       "       [27102.505],\n",
       "       [25596.857],\n",
       "       [24683.787],\n",
       "       [25459.821],\n",
       "       [25468.607],\n",
       "       [24773.39 ],\n",
       "       [23503.473],\n",
       "       [25424.638],\n",
       "       [22474.828],\n",
       "       [25568.519],\n",
       "       [28957.526],\n",
       "       [39045.037],\n",
       "       [30709.749],\n",
       "       [28794.381],\n",
       "       [24772.229],\n",
       "       [28854.946],\n",
       "       [28011.397],\n",
       "       [29700.4  ],\n",
       "       [24307.323],\n",
       "       [23206.784],\n",
       "       [24877.789],\n",
       "       [32196.749],\n",
       "       [33595.652],\n",
       "       [33669.479],\n",
       "       [24698.87 ],\n",
       "       [22667.938],\n",
       "       [26583.598],\n",
       "       [25026.515],\n",
       "       [30250.011],\n",
       "       [30250.011],\n",
       "       [30212.455]])"
      ]
     },
     "execution_count": 26,
     "metadata": {},
     "output_type": "execute_result"
    }
   ],
   "source": [
    "np.isnan(X) \n",
    "np.where(np.isnan(X))\n",
    "np.nan_to_num(X)"
   ]
  },
  {
   "cell_type": "code",
   "execution_count": 27,
   "id": "88fc3d93",
   "metadata": {},
   "outputs": [
    {
     "name": "stdout",
     "output_type": "stream",
     "text": [
      "19755.36347747872\n"
     ]
    }
   ],
   "source": [
    "print(regressor.intercept_)"
   ]
  },
  {
   "cell_type": "code",
   "execution_count": 28,
   "id": "a9012bb3",
   "metadata": {},
   "outputs": [
    {
     "name": "stdout",
     "output_type": "stream",
     "text": [
      "[0.16369553]\n"
     ]
    }
   ],
   "source": [
    "print(regressor.coef_)"
   ]
  },
  {
   "cell_type": "code",
   "execution_count": 29,
   "id": "e1be8b8b",
   "metadata": {},
   "outputs": [
    {
     "data": {
      "text/html": [
       "<div>\n",
       "<style scoped>\n",
       "    .dataframe tbody tr th:only-of-type {\n",
       "        vertical-align: middle;\n",
       "    }\n",
       "\n",
       "    .dataframe tbody tr th {\n",
       "        vertical-align: top;\n",
       "    }\n",
       "\n",
       "    .dataframe thead th {\n",
       "        text-align: right;\n",
       "    }\n",
       "</style>\n",
       "<table border=\"1\" class=\"dataframe\">\n",
       "  <thead>\n",
       "    <tr style=\"text-align: right;\">\n",
       "      <th></th>\n",
       "      <th>Actual</th>\n",
       "      <th>Predicted</th>\n",
       "    </tr>\n",
       "  </thead>\n",
       "  <tbody>\n",
       "    <tr>\n",
       "      <th>0</th>\n",
       "      <td>25143.279</td>\n",
       "      <td>24421.089121</td>\n",
       "    </tr>\n",
       "    <tr>\n",
       "      <th>1</th>\n",
       "      <td>21545.846</td>\n",
       "      <td>23554.210300</td>\n",
       "    </tr>\n",
       "    <tr>\n",
       "      <th>2</th>\n",
       "      <td>13258.752</td>\n",
       "      <td>21929.356676</td>\n",
       "    </tr>\n",
       "    <tr>\n",
       "      <th>3</th>\n",
       "      <td>24531.146</td>\n",
       "      <td>23795.989090</td>\n",
       "    </tr>\n",
       "    <tr>\n",
       "      <th>4</th>\n",
       "      <td>23925.912</td>\n",
       "      <td>23923.022387</td>\n",
       "    </tr>\n",
       "    <tr>\n",
       "      <th>5</th>\n",
       "      <td>26426.700</td>\n",
       "      <td>24340.703975</td>\n",
       "    </tr>\n",
       "    <tr>\n",
       "      <th>6</th>\n",
       "      <td>25738.047</td>\n",
       "      <td>25338.881998</td>\n",
       "    </tr>\n",
       "    <tr>\n",
       "      <th>7</th>\n",
       "      <td>28899.297</td>\n",
       "      <td>24468.874956</td>\n",
       "    </tr>\n",
       "    <tr>\n",
       "      <th>8</th>\n",
       "      <td>25070.339</td>\n",
       "      <td>23945.454568</td>\n",
       "    </tr>\n",
       "    <tr>\n",
       "      <th>9</th>\n",
       "      <td>27989.639</td>\n",
       "      <td>23945.454568</td>\n",
       "    </tr>\n",
       "    <tr>\n",
       "      <th>10</th>\n",
       "      <td>27934.557</td>\n",
       "      <td>24191.922417</td>\n",
       "    </tr>\n",
       "    <tr>\n",
       "      <th>11</th>\n",
       "      <td>25927.653</td>\n",
       "      <td>25266.906710</td>\n",
       "    </tr>\n",
       "    <tr>\n",
       "      <th>12</th>\n",
       "      <td>24672.909</td>\n",
       "      <td>23602.776963</td>\n",
       "    </tr>\n",
       "    <tr>\n",
       "      <th>13</th>\n",
       "      <td>22604.404</td>\n",
       "      <td>23290.385323</td>\n",
       "    </tr>\n",
       "    <tr>\n",
       "      <th>14</th>\n",
       "      <td>21342.566</td>\n",
       "      <td>23426.596047</td>\n",
       "    </tr>\n",
       "    <tr>\n",
       "      <th>15</th>\n",
       "      <td>24058.528</td>\n",
       "      <td>23658.851031</td>\n",
       "    </tr>\n",
       "    <tr>\n",
       "      <th>16</th>\n",
       "      <td>21312.837</td>\n",
       "      <td>23678.167104</td>\n",
       "    </tr>\n",
       "    <tr>\n",
       "      <th>17</th>\n",
       "      <td>20348.215</td>\n",
       "      <td>23728.413119</td>\n",
       "    </tr>\n",
       "    <tr>\n",
       "      <th>18</th>\n",
       "      <td>22423.967</td>\n",
       "      <td>24603.495050</td>\n",
       "    </tr>\n",
       "    <tr>\n",
       "      <th>19</th>\n",
       "      <td>23467.652</td>\n",
       "      <td>23342.018822</td>\n",
       "    </tr>\n",
       "  </tbody>\n",
       "</table>\n",
       "</div>"
      ],
      "text/plain": [
       "       Actual     Predicted\n",
       "0   25143.279  24421.089121\n",
       "1   21545.846  23554.210300\n",
       "2   13258.752  21929.356676\n",
       "3   24531.146  23795.989090\n",
       "4   23925.912  23923.022387\n",
       "5   26426.700  24340.703975\n",
       "6   25738.047  25338.881998\n",
       "7   28899.297  24468.874956\n",
       "8   25070.339  23945.454568\n",
       "9   27989.639  23945.454568\n",
       "10  27934.557  24191.922417\n",
       "11  25927.653  25266.906710\n",
       "12  24672.909  23602.776963\n",
       "13  22604.404  23290.385323\n",
       "14  21342.566  23426.596047\n",
       "15  24058.528  23658.851031\n",
       "16  21312.837  23678.167104\n",
       "17  20348.215  23728.413119\n",
       "18  22423.967  24603.495050\n",
       "19  23467.652  23342.018822"
      ]
     },
     "execution_count": 29,
     "metadata": {},
     "output_type": "execute_result"
    }
   ],
   "source": [
    "y_pred = regressor.predict(X_test)\n",
    "df = pd.DataFrame({'Actual': y_test, 'Predicted': y_pred})\n",
    "df"
   ]
  },
  {
   "cell_type": "code",
   "execution_count": 30,
   "id": "aa08b3db",
   "metadata": {},
   "outputs": [
    {
     "name": "stdout",
     "output_type": "stream",
     "text": [
      "Mean Absolute Error: 2045.8874006439642\n",
      "Mean Squared Error: 8219215.318543501\n",
      "Root Mean Squared Error: 2866.9173895568565\n"
     ]
    }
   ],
   "source": [
    "from sklearn import metrics\n",
    "print('Mean Absolute Error:', metrics.mean_absolute_error(y_test, y_pred))\n",
    "print('Mean Squared Error:', metrics.mean_squared_error(y_test, y_pred))\n",
    "print('Root Mean Squared Error:', np.sqrt(metrics.mean_squared_error(y_test, y_pred)))"
   ]
  },
  {
   "cell_type": "code",
   "execution_count": null,
   "id": "939bcf82",
   "metadata": {},
   "outputs": [],
   "source": []
  },
  {
   "cell_type": "code",
   "execution_count": null,
   "id": "e2cbd61a",
   "metadata": {},
   "outputs": [],
   "source": []
  }
 ],
 "metadata": {
  "kernelspec": {
   "display_name": "Python 3 (ipykernel)",
   "language": "python",
   "name": "python3"
  },
  "language_info": {
   "codemirror_mode": {
    "name": "ipython",
    "version": 3
   },
   "file_extension": ".py",
   "mimetype": "text/x-python",
   "name": "python",
   "nbconvert_exporter": "python",
   "pygments_lexer": "ipython3",
   "version": "3.9.0"
  }
 },
 "nbformat": 4,
 "nbformat_minor": 5
}
