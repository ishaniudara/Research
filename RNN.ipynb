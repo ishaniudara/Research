{
 "cells": [
  {
   "cell_type": "code",
   "execution_count": 1,
   "id": "dcfe7bea",
   "metadata": {},
   "outputs": [],
   "source": [
    "import numpy as np\n",
    "from tensorflow.keras.models import Sequential\n",
    "from tensorflow.keras.layers import LSTM\n",
    "from tensorflow.keras.layers import Dense, Dropout\n",
    "import pandas as pd\n",
    "from matplotlib import pyplot as plt\n",
    "from sklearn.preprocessing import StandardScaler\n",
    "import seaborn as sns"
   ]
  },
  {
   "cell_type": "code",
   "execution_count": 2,
   "id": "88e19455",
   "metadata": {},
   "outputs": [
    {
     "name": "stdout",
     "output_type": "stream",
     "text": [
      "       Date   Price  Dollar rate  Crude oil  Production\n",
      "0  1/1/2020  535.86       181.43   11181.53     5084836\n",
      "1  1/2/2020  577.70       181.58    9687.29     4452424\n",
      "2  1/3/2020  560.10       184.81    5950.88     3355617\n",
      "3  1/4/2020  655.92       191.67    4032.73     4011551\n",
      "4  1/5/2020  645.41       187.38    5636.39     6713225\n"
     ]
    }
   ],
   "source": [
    "df = pd.read_csv(r\"C:\\Users\\user\\Desktop\\Research\\highTea2.csv\")\n",
    "print(df.head())"
   ]
  },
  {
   "cell_type": "code",
   "execution_count": 5,
   "id": "d1eec07e",
   "metadata": {},
   "outputs": [
    {
     "data": {
      "text/plain": [
       "<bound method NDFrame.tail of 0     2020-01-01\n",
       "1     2020-01-02\n",
       "2     2020-01-03\n",
       "3     2020-01-04\n",
       "4     2020-01-05\n",
       "         ...    \n",
       "103   2012-01-08\n",
       "104   2012-01-09\n",
       "105   2012-01-10\n",
       "106   2012-01-11\n",
       "107   2012-01-12\n",
       "Name: Date, Length: 108, dtype: datetime64[ns]>"
      ]
     },
     "execution_count": 5,
     "metadata": {},
     "output_type": "execute_result"
    }
   ],
   "source": [
    "train_dates = pd.to_datetime(df['Date'])\n",
    "train_dates.tail"
   ]
  },
  {
   "cell_type": "code",
   "execution_count": 6,
   "id": "afeed885",
   "metadata": {},
   "outputs": [],
   "source": [
    "cols = list(df)[1:6]\n",
    "\n"
   ]
  },
  {
   "cell_type": "code",
   "execution_count": 8,
   "id": "f89a7313",
   "metadata": {},
   "outputs": [
    {
     "data": {
      "text/plain": [
       "<bound method NDFrame.head of       Price  Dollar rate  Crude oil  Production\n",
       "0    535.86       181.43   11181.53   5084836.0\n",
       "1    577.70       181.58    9687.29   4452424.0\n",
       "2    560.10       184.81    5950.88   3355617.0\n",
       "3    655.92       191.67    4032.73   4011551.0\n",
       "4    645.41       187.38    5636.39   6713225.0\n",
       "..      ...          ...        ...         ...\n",
       "103  421.06       132.10   13903.10   5110707.0\n",
       "104  417.31       131.80   14003.22   4754479.0\n",
       "105  420.43       129.10   13343.41   5794067.0\n",
       "106  425.99       130.30   13186.94   7142305.0\n",
       "107  440.84       128.30   13006.18   5908086.0\n",
       "\n",
       "[108 rows x 4 columns]>"
      ]
     },
     "execution_count": 8,
     "metadata": {},
     "output_type": "execute_result"
    }
   ],
   "source": [
    "df_for_training = df[cols].astype(float)\n",
    "df_for_training.head"
   ]
  },
  {
   "cell_type": "code",
   "execution_count": 21,
   "id": "5031f3d4",
   "metadata": {},
   "outputs": [],
   "source": [
    "# scaler = StandardScaler()\n",
    "# scaler = scaler.fit(df_for_training)\n",
    "# df_for_training_scaled = scaler.transform(df_for_training)\n",
    "from sklearn.preprocessing import MinMaxScaler\n",
    "Scaler=MinMaxScaler()\n",
    "df_for_training_scaled=Scaler.fit_transform(df_for_training)\n"
   ]
  },
  {
   "cell_type": "code",
   "execution_count": 22,
   "id": "5d7f82c0",
   "metadata": {},
   "outputs": [],
   "source": [
    "trainX = []\n",
    "trainY = []"
   ]
  },
  {
   "cell_type": "code",
   "execution_count": 23,
   "id": "a2b961d6",
   "metadata": {},
   "outputs": [],
   "source": [
    "n_future = 1   # Number of days we want to look into the future based on the past days.\n",
    "n_past = 6"
   ]
  },
  {
   "cell_type": "code",
   "execution_count": 24,
   "id": "55c6c57f",
   "metadata": {},
   "outputs": [],
   "source": [
    "for i in range(n_past, len(df_for_training_scaled) - n_future +1):\n",
    "    trainX.append(df_for_training_scaled[i - n_past:i, 0:df_for_training.shape[1]])\n",
    "    trainY.append(df_for_training_scaled[i + n_future - 1:i + n_future, 0])\n"
   ]
  },
  {
   "cell_type": "code",
   "execution_count": 25,
   "id": "4ad70b0e",
   "metadata": {},
   "outputs": [],
   "source": [
    "trainX, trainY = np.array(trainX), np.array(trainY)"
   ]
  },
  {
   "cell_type": "code",
   "execution_count": 26,
   "id": "f9d0ec32",
   "metadata": {},
   "outputs": [
    {
     "name": "stdout",
     "output_type": "stream",
     "text": [
      "trainX shape == (102, 6, 4).\n",
      "trainY shape == (102, 1).\n"
     ]
    }
   ],
   "source": [
    "print('trainX shape == {}.'.format(trainX.shape))\n",
    "print('trainY shape == {}.'.format(trainY.shape))\n"
   ]
  },
  {
   "cell_type": "code",
   "execution_count": 29,
   "id": "5dddd648",
   "metadata": {},
   "outputs": [
    {
     "data": {
      "text/plain": [
       "array([[0.61544765],\n",
       "       [0.73289833],\n",
       "       [0.68312595],\n",
       "       [0.81793627],\n",
       "       [0.89793627],\n",
       "       [0.92828528],\n",
       "       [0.7369651 ],\n",
       "       [0.74904401],\n",
       "       [0.72889226],\n",
       "       [0.63757208],\n",
       "       [0.52764795],\n",
       "       [0.38743551],\n",
       "       [0.35875569],\n",
       "       [0.3753566 ],\n",
       "       [0.39350531],\n",
       "       [0.45323217],\n",
       "       [0.63708649],\n",
       "       [0.63550835],\n",
       "       [0.85705615],\n",
       "       [0.97432473],\n",
       "       [0.86388467],\n",
       "       [0.71050076],\n",
       "       [0.65347496],\n",
       "       [0.51010622],\n",
       "       [0.59924127],\n",
       "       [0.76509863],\n",
       "       [0.73359636],\n",
       "       [0.85326252],\n",
       "       [0.68546282],\n",
       "       [0.71144158],\n",
       "       [0.26907436],\n",
       "       [0.83019727],\n",
       "       [0.92245827],\n",
       "       [0.88673748],\n",
       "       [0.69359636],\n",
       "       [0.6076176 ],\n",
       "       [0.69790592],\n",
       "       [0.87742033],\n",
       "       [0.98588771],\n",
       "       [1.        ],\n",
       "       [0.96965099],\n",
       "       [0.82549317],\n",
       "       [0.24555387],\n",
       "       [0.28191199],\n",
       "       [0.27827011],\n",
       "       [0.29796662],\n",
       "       [0.28118361],\n",
       "       [0.18342944],\n",
       "       [0.27353566],\n",
       "       [0.35141123],\n",
       "       [0.44418816],\n",
       "       [0.63350531],\n",
       "       [0.74646434],\n",
       "       [0.74898331],\n",
       "       [0.20728376],\n",
       "       [0.23408194],\n",
       "       [0.21717754],\n",
       "       [0.13259484],\n",
       "       [0.09229135],\n",
       "       [0.07742033],\n",
       "       [0.1616692 ],\n",
       "       [0.12324734],\n",
       "       [0.15329287],\n",
       "       [0.22409712],\n",
       "       [0.20588771],\n",
       "       [0.27004552],\n",
       "       [0.36707132],\n",
       "       [0.32895296],\n",
       "       [0.31626707],\n",
       "       [0.26218513],\n",
       "       [0.25875569],\n",
       "       [0.23602428],\n",
       "       [0.51098634],\n",
       "       [0.21229135],\n",
       "       [0.19641882],\n",
       "       [0.31960546],\n",
       "       [0.25669196],\n",
       "       [0.2676783 ],\n",
       "       [0.31957511],\n",
       "       [0.24795144],\n",
       "       [0.24215478],\n",
       "       [0.19918058],\n",
       "       [0.04276176],\n",
       "       [0.05019727],\n",
       "       [0.12373293],\n",
       "       [0.24500759],\n",
       "       [0.36707132],\n",
       "       [0.31505311],\n",
       "       [0.33875569],\n",
       "       [0.33942337],\n",
       "       [0.        ],\n",
       "       [0.00312595],\n",
       "       [0.04121396],\n",
       "       [0.09969651],\n",
       "       [0.0524431 ],\n",
       "       [0.05930197],\n",
       "       [0.10734446],\n",
       "       [0.27365706],\n",
       "       [0.26227618],\n",
       "       [0.27174507],\n",
       "       [0.28861912],\n",
       "       [0.33368741]])"
      ]
     },
     "execution_count": 29,
     "metadata": {},
     "output_type": "execute_result"
    }
   ],
   "source": [
    "trainY"
   ]
  },
  {
   "cell_type": "code",
   "execution_count": 30,
   "id": "e5744489",
   "metadata": {},
   "outputs": [
    {
     "name": "stdout",
     "output_type": "stream",
     "text": [
      "Model: \"sequential\"\n",
      "_________________________________________________________________\n",
      "Layer (type)                 Output Shape              Param #   \n",
      "=================================================================\n",
      "lstm (LSTM)                  (None, 6, 64)             17664     \n",
      "_________________________________________________________________\n",
      "lstm_1 (LSTM)                (None, 32)                12416     \n",
      "_________________________________________________________________\n",
      "dropout (Dropout)            (None, 32)                0         \n",
      "_________________________________________________________________\n",
      "dense (Dense)                (None, 1)                 33        \n",
      "=================================================================\n",
      "Total params: 30,113\n",
      "Trainable params: 30,113\n",
      "Non-trainable params: 0\n",
      "_________________________________________________________________\n"
     ]
    }
   ],
   "source": [
    "model = Sequential()\n",
    "model.add(LSTM(64, activation='relu', input_shape=(trainX.shape[1], trainX.shape[2]), return_sequences=True))\n",
    "model.add(LSTM(32, activation='relu', return_sequences=False))\n",
    "model.add(Dropout(0.2))\n",
    "model.add(Dense(trainY.shape[1]))\n",
    "\n",
    "model.compile(optimizer='adam', loss='mse')\n",
    "model.summary()"
   ]
  },
  {
   "cell_type": "code",
   "execution_count": 35,
   "id": "cd1746d8",
   "metadata": {},
   "outputs": [
    {
     "name": "stdout",
     "output_type": "stream",
     "text": [
      "Epoch 1/10\n",
      "6/6 [==============================] - 3s 122ms/step - loss: 0.0033 - val_loss: 0.0437\n",
      "Epoch 2/10\n",
      "6/6 [==============================] - 0s 14ms/step - loss: 0.0034 - val_loss: 0.0418\n",
      "Epoch 3/10\n",
      "6/6 [==============================] - 0s 15ms/step - loss: 0.0033 - val_loss: 0.0393\n",
      "Epoch 4/10\n",
      "6/6 [==============================] - 0s 14ms/step - loss: 0.0034 - val_loss: 0.0375\n",
      "Epoch 5/10\n",
      "6/6 [==============================] - 0s 15ms/step - loss: 0.0030 - val_loss: 0.0362\n",
      "Epoch 6/10\n",
      "6/6 [==============================] - 0s 14ms/step - loss: 0.0029 - val_loss: 0.0356\n",
      "Epoch 7/10\n",
      "6/6 [==============================] - 0s 15ms/step - loss: 0.0030 - val_loss: 0.0367\n",
      "Epoch 8/10\n",
      "6/6 [==============================] - 0s 15ms/step - loss: 0.0037 - val_loss: 0.0381\n",
      "Epoch 9/10\n",
      "6/6 [==============================] - 0s 14ms/step - loss: 0.0033 - val_loss: 0.0392\n",
      "Epoch 10/10\n",
      "6/6 [==============================] - 0s 15ms/step - loss: 0.0028 - val_loss: 0.0402\n"
     ]
    },
    {
     "data": {
      "text/plain": [
       "<matplotlib.legend.Legend at 0x1b73317db50>"
      ]
     },
     "execution_count": 35,
     "metadata": {},
     "output_type": "execute_result"
    },
    {
     "data": {
      "image/png": "[encoded data removed]",
      "text/plain": [
       "<Figure size 432x288 with 1 Axes>"
      ]
     },
     "metadata": {
      "needs_background": "light"
     },
     "output_type": "display_data"
    }
   ],
   "source": [
    "history = model.fit(trainX, trainY, epochs=10, batch_size=16, validation_split=0.1, verbose=1)\n",
    "\n",
    "plt.plot(history.history['loss'], label='Training loss')\n",
    "plt.plot(history.history['val_loss'], label='Validation loss')\n",
    "plt.legend()"
   ]
  },
  {
   "cell_type": "code",
   "execution_count": 37,
   "id": "77ca07bd",
   "metadata": {},
   "outputs": [
    {
     "name": "stdout",
     "output_type": "stream",
     "text": [
      "[Timestamp('2013-01-09 00:00:00', freq='C'), Timestamp('2013-01-10 00:00:00', freq='C'), Timestamp('2013-01-11 00:00:00', freq='C'), Timestamp('2013-01-14 00:00:00', freq='C'), Timestamp('2013-01-15 00:00:00', freq='C'), Timestamp('2013-01-16 00:00:00', freq='C'), Timestamp('2013-01-17 00:00:00', freq='C'), Timestamp('2013-01-18 00:00:00', freq='C'), Timestamp('2013-01-22 00:00:00', freq='C'), Timestamp('2013-01-23 00:00:00', freq='C'), Timestamp('2013-01-24 00:00:00', freq='C'), Timestamp('2013-01-25 00:00:00', freq='C')]\n"
     ]
    }
   ],
   "source": [
    "from pandas.tseries.holiday import USFederalHolidayCalendar\n",
    "from pandas.tseries.offsets import CustomBusinessDay\n",
    "us_bd = CustomBusinessDay(calendar=USFederalHolidayCalendar())\n",
    "n_past = 16\n",
    "n_days_for_prediction=12  #let us predict past 15 days\n",
    "\n",
    "predict_period_dates = pd.date_range(list(train_dates)[-n_past], periods=n_days_for_prediction, freq=us_bd).tolist()\n",
    "print(predict_period_dates)"
   ]
  },
  {
   "cell_type": "code",
   "execution_count": 40,
   "id": "995063df",
   "metadata": {},
   "outputs": [
    {
     "ename": "SyntaxError",
     "evalue": "invalid syntax (Temp/ipykernel_8068/1730246871.py, line 2)",
     "output_type": "error",
     "traceback": [
      "\u001b[1;36m  File \u001b[1;32m\"C:\\Users\\user\\AppData\\Local\\Temp/ipykernel_8068/1730246871.py\"\u001b[1;36m, line \u001b[1;32m2\u001b[0m\n\u001b[1;33m    prediction_copies = np.repeat(prediction, df_for_training.shape[1], axis=-1)\u001b[0m\n\u001b[1;37m    ^\u001b[0m\n\u001b[1;31mSyntaxError\u001b[0m\u001b[1;31m:\u001b[0m invalid syntax\n"
     ]
    }
   ],
   "source": [
    "prediction = model.predict(trainX[-n_days_for_prediction:]\n",
    "prediction_copies = np.repeat(prediction, df_for_training.shape[1], axis=-1)\n",
    "y_pred_future = scaler.inverse_transform(prediction_copies)[:,0]"
   ]
  },
  {
   "cell_type": "code",
   "execution_count": 43,
   "id": "9ccc4541",
   "metadata": {},
   "outputs": [],
   "source": [
    "n_future=12\n",
    "forecast_period_dates = pd.date_range(list(train_dates)[-n_past], periods=n_days_for_prediction, freq='1m').tolist()\n",
    "forecast=model.predict(trainX[-n_future:])"
   ]
  },
  {
   "cell_type": "code",
   "execution_count": 45,
   "id": "fa7ed449",
   "metadata": {},
   "outputs": [
    {
     "data": {
      "text/plain": [
       "array([332.41626, 441.39764, 447.0362 , 445.47064, 431.76642, 449.7245 ,\n",
       "       365.07446, 393.408  , 428.35944, 442.84247, 448.11316, 449.40247],\n",
       "      dtype=float32)"
      ]
     },
     "execution_count": 45,
     "metadata": {},
     "output_type": "execute_result"
    }
   ],
   "source": [
    "forecast_copies = np.repeat(forecast, df_for_training.shape[1], axis=-1)\n",
    "y_pred_future = Scaler.inverse_transform(forecast_copies)[:,0]\n",
    "y_pred_future"
   ]
  },
  {
   "cell_type": "code",
   "execution_count": 54,
   "id": "420714b3",
   "metadata": {},
   "outputs": [
    {
     "name": "stderr",
     "output_type": "stream",
     "text": [
      "C:\\Users\\user\\AppData\\Local\\Temp/ipykernel_8068/635133410.py:10: SettingWithCopyWarning: \n",
      "A value is trying to be set on a copy of a slice from a DataFrame.\n",
      "Try using .loc[row_indexer,col_indexer] = value instead\n",
      "\n",
      "See the caveats in the documentation: https://pandas.pydata.org/pandas-docs/stable/user_guide/indexing.html#returning-a-view-versus-a-copy\n",
      "  original['Date']=pd.to_datetime(original['Date'])\n",
      "c:\\users\\user\\appdata\\local\\programs\\python\\python39\\lib\\site-packages\\seaborn\\_decorators.py:36: FutureWarning: Pass the following variables as keyword args: x, y. From version 0.12, the only valid positional argument will be `data`, and passing other arguments without an explicit keyword will result in an error or misinterpretation.\n",
      "  warnings.warn(\n",
      "c:\\users\\user\\appdata\\local\\programs\\python\\python39\\lib\\site-packages\\seaborn\\_decorators.py:36: FutureWarning: Pass the following variables as keyword args: x, y. From version 0.12, the only valid positional argument will be `data`, and passing other arguments without an explicit keyword will result in an error or misinterpretation.\n",
      "  warnings.warn(\n"
     ]
    },
    {
     "data": {
      "text/plain": [
       "<AxesSubplot:xlabel='Date', ylabel='Price'>"
      ]
     },
     "execution_count": 54,
     "metadata": {},
     "output_type": "execute_result"
    },
    {
     "data": {
      "image/png": "[encoded data removed]",
      "text/plain": [
       "<Figure size 432x288 with 1 Axes>"
      ]
     },
     "metadata": {
      "needs_background": "light"
     },
     "output_type": "display_data"
    }
   ],
   "source": [
    "forecast_dates = []\n",
    "for time_i in forecast_period_dates:\n",
    "    forecast_dates.append(time_i.date())\n",
    "    \n",
    "df_forecast = pd.DataFrame({'Date':np.array(forecast_dates), 'Price':y_pred_future})\n",
    "df_forecast['Date']=pd.to_datetime(df_forecast['Date'])\n",
    "\n",
    "\n",
    "original = df[['Date', 'Price']]\n",
    "original['Date']=pd.to_datetime(original['Date'])\n",
    "original = original.loc[original['Date'] >= '2010-1-1']\n",
    "\n",
    "sns.lineplot(original['Date'], original['Price'])\n",
    "sns.lineplot(df_forecast['Date'], df_forecast['Price'])"
   ]
  },
  {
   "cell_type": "code",
   "execution_count": 47,
   "id": "297cd903",
   "metadata": {},
   "outputs": [
    {
     "data": {
      "text/html": [
       "<div>\n",
       "<style scoped>\n",
       "    .dataframe tbody tr th:only-of-type {\n",
       "        vertical-align: middle;\n",
       "    }\n",
       "\n",
       "    .dataframe tbody tr th {\n",
       "        vertical-align: top;\n",
       "    }\n",
       "\n",
       "    .dataframe thead th {\n",
       "        text-align: right;\n",
       "    }\n",
       "</style>\n",
       "<table border=\"1\" class=\"dataframe\">\n",
       "  <thead>\n",
       "    <tr style=\"text-align: right;\">\n",
       "      <th></th>\n",
       "      <th>Date</th>\n",
       "      <th>Price</th>\n",
       "    </tr>\n",
       "  </thead>\n",
       "  <tbody>\n",
       "    <tr>\n",
       "      <th>0</th>\n",
       "      <td>2013-01-31</td>\n",
       "      <td>332.416260</td>\n",
       "    </tr>\n",
       "    <tr>\n",
       "      <th>1</th>\n",
       "      <td>2013-02-28</td>\n",
       "      <td>441.397644</td>\n",
       "    </tr>\n",
       "    <tr>\n",
       "      <th>2</th>\n",
       "      <td>2013-03-31</td>\n",
       "      <td>447.036194</td>\n",
       "    </tr>\n",
       "    <tr>\n",
       "      <th>3</th>\n",
       "      <td>2013-04-30</td>\n",
       "      <td>445.470642</td>\n",
       "    </tr>\n",
       "    <tr>\n",
       "      <th>4</th>\n",
       "      <td>2013-05-31</td>\n",
       "      <td>431.766418</td>\n",
       "    </tr>\n",
       "    <tr>\n",
       "      <th>5</th>\n",
       "      <td>2013-06-30</td>\n",
       "      <td>449.724487</td>\n",
       "    </tr>\n",
       "    <tr>\n",
       "      <th>6</th>\n",
       "      <td>2013-07-31</td>\n",
       "      <td>365.074463</td>\n",
       "    </tr>\n",
       "    <tr>\n",
       "      <th>7</th>\n",
       "      <td>2013-08-31</td>\n",
       "      <td>393.407990</td>\n",
       "    </tr>\n",
       "    <tr>\n",
       "      <th>8</th>\n",
       "      <td>2013-09-30</td>\n",
       "      <td>428.359436</td>\n",
       "    </tr>\n",
       "    <tr>\n",
       "      <th>9</th>\n",
       "      <td>2013-10-31</td>\n",
       "      <td>442.842468</td>\n",
       "    </tr>\n",
       "    <tr>\n",
       "      <th>10</th>\n",
       "      <td>2013-11-30</td>\n",
       "      <td>448.113159</td>\n",
       "    </tr>\n",
       "    <tr>\n",
       "      <th>11</th>\n",
       "      <td>2013-12-31</td>\n",
       "      <td>449.402466</td>\n",
       "    </tr>\n",
       "  </tbody>\n",
       "</table>\n",
       "</div>"
      ],
      "text/plain": [
       "         Date       Price\n",
       "0  2013-01-31  332.416260\n",
       "1  2013-02-28  441.397644\n",
       "2  2013-03-31  447.036194\n",
       "3  2013-04-30  445.470642\n",
       "4  2013-05-31  431.766418\n",
       "5  2013-06-30  449.724487\n",
       "6  2013-07-31  365.074463\n",
       "7  2013-08-31  393.407990\n",
       "8  2013-09-30  428.359436\n",
       "9  2013-10-31  442.842468\n",
       "10 2013-11-30  448.113159\n",
       "11 2013-12-31  449.402466"
      ]
     },
     "execution_count": 47,
     "metadata": {},
     "output_type": "execute_result"
    }
   ],
   "source": [
    "df_forecast"
   ]
  },
  {
   "cell_type": "code",
   "execution_count": 52,
   "id": "050e6f9d",
   "metadata": {},
   "outputs": [
    {
     "ename": "ValueError",
     "evalue": "Found array with dim 3. Estimator expected <= 2.",
     "output_type": "error",
     "traceback": [
      "\u001b[1;31m---------------------------------------------------------------------------\u001b[0m",
      "\u001b[1;31mValueError\u001b[0m                                Traceback (most recent call last)",
      "\u001b[1;32m~\\AppData\\Local\\Temp/ipykernel_8068/2208917350.py\u001b[0m in \u001b[0;36m<module>\u001b[1;34m\u001b[0m\n\u001b[0;32m      1\u001b[0m \u001b[1;32mfrom\u001b[0m \u001b[0mmath\u001b[0m \u001b[1;32mimport\u001b[0m \u001b[0msqrt\u001b[0m\u001b[1;33m\u001b[0m\u001b[1;33m\u001b[0m\u001b[0m\n\u001b[0;32m      2\u001b[0m \u001b[1;32mfrom\u001b[0m \u001b[0msklearn\u001b[0m\u001b[1;33m.\u001b[0m\u001b[0mmetrics\u001b[0m \u001b[1;32mimport\u001b[0m \u001b[0mmean_squared_error\u001b[0m\u001b[1;33m\u001b[0m\u001b[1;33m\u001b[0m\u001b[0m\n\u001b[1;32m----> 3\u001b[1;33m \u001b[0mrmse\u001b[0m \u001b[1;33m=\u001b[0m \u001b[0msqrt\u001b[0m\u001b[1;33m(\u001b[0m\u001b[0mmean_squared_error\u001b[0m\u001b[1;33m(\u001b[0m\u001b[0mtrainX\u001b[0m\u001b[1;33m,\u001b[0m \u001b[0mtrainY\u001b[0m\u001b[1;33m)\u001b[0m\u001b[1;33m)\u001b[0m\u001b[1;33m\u001b[0m\u001b[1;33m\u001b[0m\u001b[0m\n\u001b[0m\u001b[0;32m      4\u001b[0m \u001b[0mprint\u001b[0m\u001b[1;33m(\u001b[0m\u001b[1;34m'Test RMSE: %.3f'\u001b[0m \u001b[1;33m%\u001b[0m \u001b[0mrmse\u001b[0m\u001b[1;33m)\u001b[0m\u001b[1;33m\u001b[0m\u001b[1;33m\u001b[0m\u001b[0m\n",
      "\u001b[1;32mc:\\users\\user\\appdata\\local\\programs\\python\\python39\\lib\\site-packages\\sklearn\\utils\\validation.py\u001b[0m in \u001b[0;36minner_f\u001b[1;34m(*args, **kwargs)\u001b[0m\n\u001b[0;32m     61\u001b[0m             \u001b[0mextra_args\u001b[0m \u001b[1;33m=\u001b[0m \u001b[0mlen\u001b[0m\u001b[1;33m(\u001b[0m\u001b[0margs\u001b[0m\u001b[1;33m)\u001b[0m \u001b[1;33m-\u001b[0m \u001b[0mlen\u001b[0m\u001b[1;33m(\u001b[0m\u001b[0mall_args\u001b[0m\u001b[1;33m)\u001b[0m\u001b[1;33m\u001b[0m\u001b[1;33m\u001b[0m\u001b[0m\n\u001b[0;32m     62\u001b[0m             \u001b[1;32mif\u001b[0m \u001b[0mextra_args\u001b[0m \u001b[1;33m<=\u001b[0m \u001b[1;36m0\u001b[0m\u001b[1;33m:\u001b[0m\u001b[1;33m\u001b[0m\u001b[1;33m\u001b[0m\u001b[0m\n\u001b[1;32m---> 63\u001b[1;33m                 \u001b[1;32mreturn\u001b[0m \u001b[0mf\u001b[0m\u001b[1;33m(\u001b[0m\u001b[1;33m*\u001b[0m\u001b[0margs\u001b[0m\u001b[1;33m,\u001b[0m \u001b[1;33m**\u001b[0m\u001b[0mkwargs\u001b[0m\u001b[1;33m)\u001b[0m\u001b[1;33m\u001b[0m\u001b[1;33m\u001b[0m\u001b[0m\n\u001b[0m\u001b[0;32m     64\u001b[0m \u001b[1;33m\u001b[0m\u001b[0m\n\u001b[0;32m     65\u001b[0m             \u001b[1;31m# extra_args > 0\u001b[0m\u001b[1;33m\u001b[0m\u001b[1;33m\u001b[0m\u001b[1;33m\u001b[0m\u001b[0m\n",
      "\u001b[1;32mc:\\users\\user\\appdata\\local\\programs\\python\\python39\\lib\\site-packages\\sklearn\\metrics\\_regression.py\u001b[0m in \u001b[0;36mmean_squared_error\u001b[1;34m(y_true, y_pred, sample_weight, multioutput, squared)\u001b[0m\n\u001b[0;32m    333\u001b[0m     \u001b[1;36m0.825\u001b[0m\u001b[1;33m...\u001b[0m\u001b[1;33m\u001b[0m\u001b[1;33m\u001b[0m\u001b[0m\n\u001b[0;32m    334\u001b[0m     \"\"\"\n\u001b[1;32m--> 335\u001b[1;33m     y_type, y_true, y_pred, multioutput = _check_reg_targets(\n\u001b[0m\u001b[0;32m    336\u001b[0m         y_true, y_pred, multioutput)\n\u001b[0;32m    337\u001b[0m     \u001b[0mcheck_consistent_length\u001b[0m\u001b[1;33m(\u001b[0m\u001b[0my_true\u001b[0m\u001b[1;33m,\u001b[0m \u001b[0my_pred\u001b[0m\u001b[1;33m,\u001b[0m \u001b[0msample_weight\u001b[0m\u001b[1;33m)\u001b[0m\u001b[1;33m\u001b[0m\u001b[1;33m\u001b[0m\u001b[0m\n",
      "\u001b[1;32mc:\\users\\user\\appdata\\local\\programs\\python\\python39\\lib\\site-packages\\sklearn\\metrics\\_regression.py\u001b[0m in \u001b[0;36m_check_reg_targets\u001b[1;34m(y_true, y_pred, multioutput, dtype)\u001b[0m\n\u001b[0;32m     87\u001b[0m     \"\"\"\n\u001b[0;32m     88\u001b[0m     \u001b[0mcheck_consistent_length\u001b[0m\u001b[1;33m(\u001b[0m\u001b[0my_true\u001b[0m\u001b[1;33m,\u001b[0m \u001b[0my_pred\u001b[0m\u001b[1;33m)\u001b[0m\u001b[1;33m\u001b[0m\u001b[1;33m\u001b[0m\u001b[0m\n\u001b[1;32m---> 89\u001b[1;33m     \u001b[0my_true\u001b[0m \u001b[1;33m=\u001b[0m \u001b[0mcheck_array\u001b[0m\u001b[1;33m(\u001b[0m\u001b[0my_true\u001b[0m\u001b[1;33m,\u001b[0m \u001b[0mensure_2d\u001b[0m\u001b[1;33m=\u001b[0m\u001b[1;32mFalse\u001b[0m\u001b[1;33m,\u001b[0m \u001b[0mdtype\u001b[0m\u001b[1;33m=\u001b[0m\u001b[0mdtype\u001b[0m\u001b[1;33m)\u001b[0m\u001b[1;33m\u001b[0m\u001b[1;33m\u001b[0m\u001b[0m\n\u001b[0m\u001b[0;32m     90\u001b[0m     \u001b[0my_pred\u001b[0m \u001b[1;33m=\u001b[0m \u001b[0mcheck_array\u001b[0m\u001b[1;33m(\u001b[0m\u001b[0my_pred\u001b[0m\u001b[1;33m,\u001b[0m \u001b[0mensure_2d\u001b[0m\u001b[1;33m=\u001b[0m\u001b[1;32mFalse\u001b[0m\u001b[1;33m,\u001b[0m \u001b[0mdtype\u001b[0m\u001b[1;33m=\u001b[0m\u001b[0mdtype\u001b[0m\u001b[1;33m)\u001b[0m\u001b[1;33m\u001b[0m\u001b[1;33m\u001b[0m\u001b[0m\n\u001b[0;32m     91\u001b[0m \u001b[1;33m\u001b[0m\u001b[0m\n",
      "\u001b[1;32mc:\\users\\user\\appdata\\local\\programs\\python\\python39\\lib\\site-packages\\sklearn\\utils\\validation.py\u001b[0m in \u001b[0;36minner_f\u001b[1;34m(*args, **kwargs)\u001b[0m\n\u001b[0;32m     61\u001b[0m             \u001b[0mextra_args\u001b[0m \u001b[1;33m=\u001b[0m \u001b[0mlen\u001b[0m\u001b[1;33m(\u001b[0m\u001b[0margs\u001b[0m\u001b[1;33m)\u001b[0m \u001b[1;33m-\u001b[0m \u001b[0mlen\u001b[0m\u001b[1;33m(\u001b[0m\u001b[0mall_args\u001b[0m\u001b[1;33m)\u001b[0m\u001b[1;33m\u001b[0m\u001b[1;33m\u001b[0m\u001b[0m\n\u001b[0;32m     62\u001b[0m             \u001b[1;32mif\u001b[0m \u001b[0mextra_args\u001b[0m \u001b[1;33m<=\u001b[0m \u001b[1;36m0\u001b[0m\u001b[1;33m:\u001b[0m\u001b[1;33m\u001b[0m\u001b[1;33m\u001b[0m\u001b[0m\n\u001b[1;32m---> 63\u001b[1;33m                 \u001b[1;32mreturn\u001b[0m \u001b[0mf\u001b[0m\u001b[1;33m(\u001b[0m\u001b[1;33m*\u001b[0m\u001b[0margs\u001b[0m\u001b[1;33m,\u001b[0m \u001b[1;33m**\u001b[0m\u001b[0mkwargs\u001b[0m\u001b[1;33m)\u001b[0m\u001b[1;33m\u001b[0m\u001b[1;33m\u001b[0m\u001b[0m\n\u001b[0m\u001b[0;32m     64\u001b[0m \u001b[1;33m\u001b[0m\u001b[0m\n\u001b[0;32m     65\u001b[0m             \u001b[1;31m# extra_args > 0\u001b[0m\u001b[1;33m\u001b[0m\u001b[1;33m\u001b[0m\u001b[1;33m\u001b[0m\u001b[0m\n",
      "\u001b[1;32mc:\\users\\user\\appdata\\local\\programs\\python\\python39\\lib\\site-packages\\sklearn\\utils\\validation.py\u001b[0m in \u001b[0;36mcheck_array\u001b[1;34m(array, accept_sparse, accept_large_sparse, dtype, order, copy, force_all_finite, ensure_2d, allow_nd, ensure_min_samples, ensure_min_features, estimator)\u001b[0m\n\u001b[0;32m    714\u001b[0m                     \"into decimal numbers with dtype='numeric'\") from e\n\u001b[0;32m    715\u001b[0m         \u001b[1;32mif\u001b[0m \u001b[1;32mnot\u001b[0m \u001b[0mallow_nd\u001b[0m \u001b[1;32mand\u001b[0m \u001b[0marray\u001b[0m\u001b[1;33m.\u001b[0m\u001b[0mndim\u001b[0m \u001b[1;33m>=\u001b[0m \u001b[1;36m3\u001b[0m\u001b[1;33m:\u001b[0m\u001b[1;33m\u001b[0m\u001b[1;33m\u001b[0m\u001b[0m\n\u001b[1;32m--> 716\u001b[1;33m             raise ValueError(\"Found array with dim %d. %s expected <= 2.\"\n\u001b[0m\u001b[0;32m    717\u001b[0m                              % (array.ndim, estimator_name))\n\u001b[0;32m    718\u001b[0m \u001b[1;33m\u001b[0m\u001b[0m\n",
      "\u001b[1;31mValueError\u001b[0m: Found array with dim 3. Estimator expected <= 2."
     ]
    }
   ],
   "source": [
    "from math import sqrt\n",
    "from sklearn.metrics import mean_squared_error\n",
    "rmse = sqrt(mean_squared_error(trainX, trainY))\n",
    "print('Test RMSE: %.3f' % rmse)"
   ]
  },
  {
   "cell_type": "code",
   "execution_count": null,
   "id": "b4f799cc",
   "metadata": {},
   "outputs": [],
   "source": [
    "n_future=12\n",
    "forecast_period_dates="
   ]
  }
 ],
 "metadata": {
  "kernelspec": {
   "display_name": "Python 3 (ipykernel)",
   "language": "python",
   "name": "python3"
  },
  "language_info": {
   "codemirror_mode": {
    "name": "ipython",
    "version": 3
   },
   "file_extension": ".py",
   "mimetype": "text/x-python",
   "name": "python",
   "nbconvert_exporter": "python",
   "pygments_lexer": "ipython3",
   "version": "3.9.0"
  }
 },
 "nbformat": 4,
 "nbformat_minor": 5
}
