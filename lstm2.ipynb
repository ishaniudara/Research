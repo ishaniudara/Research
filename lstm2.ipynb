{
 "cells": [
  {
   "cell_type": "code",
   "execution_count": 4,
   "id": "d049cc43",
   "metadata": {},
   "outputs": [],
   "source": [
    "import pandas as pd"
   ]
  },
  {
   "cell_type": "code",
   "execution_count": 5,
   "id": "6bc04f2b",
   "metadata": {},
   "outputs": [],
   "source": [
    "df=pd.read_csv(\"C:/Users/user/Desktop/Research/highTea2.csv\")"
   ]
  },
  {
   "cell_type": "code",
   "execution_count": 6,
   "id": "584fa13b",
   "metadata": {},
   "outputs": [
    {
     "data": {
      "text/html": [
       "<div>\n",
       "<style scoped>\n",
       "    .dataframe tbody tr th:only-of-type {\n",
       "        vertical-align: middle;\n",
       "    }\n",
       "\n",
       "    .dataframe tbody tr th {\n",
       "        vertical-align: top;\n",
       "    }\n",
       "\n",
       "    .dataframe thead th {\n",
       "        text-align: right;\n",
       "    }\n",
       "</style>\n",
       "<table border=\"1\" class=\"dataframe\">\n",
       "  <thead>\n",
       "    <tr style=\"text-align: right;\">\n",
       "      <th></th>\n",
       "      <th>Date</th>\n",
       "      <th>Price</th>\n",
       "      <th>Dollar rate</th>\n",
       "      <th>Crude oil</th>\n",
       "      <th>Production</th>\n",
       "    </tr>\n",
       "  </thead>\n",
       "  <tbody>\n",
       "    <tr>\n",
       "      <th>0</th>\n",
       "      <td>1/1/2020</td>\n",
       "      <td>535.86</td>\n",
       "      <td>181.43</td>\n",
       "      <td>11181.53</td>\n",
       "      <td>5084836</td>\n",
       "    </tr>\n",
       "    <tr>\n",
       "      <th>1</th>\n",
       "      <td>1/2/2020</td>\n",
       "      <td>577.70</td>\n",
       "      <td>181.58</td>\n",
       "      <td>9687.29</td>\n",
       "      <td>4452424</td>\n",
       "    </tr>\n",
       "    <tr>\n",
       "      <th>2</th>\n",
       "      <td>1/3/2020</td>\n",
       "      <td>560.10</td>\n",
       "      <td>184.81</td>\n",
       "      <td>5950.88</td>\n",
       "      <td>3355617</td>\n",
       "    </tr>\n",
       "    <tr>\n",
       "      <th>3</th>\n",
       "      <td>1/4/2020</td>\n",
       "      <td>655.92</td>\n",
       "      <td>191.67</td>\n",
       "      <td>4032.73</td>\n",
       "      <td>4011551</td>\n",
       "    </tr>\n",
       "    <tr>\n",
       "      <th>4</th>\n",
       "      <td>1/5/2020</td>\n",
       "      <td>645.41</td>\n",
       "      <td>187.38</td>\n",
       "      <td>5636.39</td>\n",
       "      <td>6713225</td>\n",
       "    </tr>\n",
       "  </tbody>\n",
       "</table>\n",
       "</div>"
      ],
      "text/plain": [
       "       Date   Price  Dollar rate  Crude oil  Production\n",
       "0  1/1/2020  535.86       181.43   11181.53     5084836\n",
       "1  1/2/2020  577.70       181.58    9687.29     4452424\n",
       "2  1/3/2020  560.10       184.81    5950.88     3355617\n",
       "3  1/4/2020  655.92       191.67    4032.73     4011551\n",
       "4  1/5/2020  645.41       187.38    5636.39     6713225"
      ]
     },
     "execution_count": 6,
     "metadata": {},
     "output_type": "execute_result"
    }
   ],
   "source": [
    "df.head()"
   ]
  },
  {
   "cell_type": "code",
   "execution_count": 7,
   "id": "3ee9a0fe",
   "metadata": {},
   "outputs": [],
   "source": [
    "df1=df.reset_index()['Price']"
   ]
  },
  {
   "cell_type": "code",
   "execution_count": 8,
   "id": "0b820292",
   "metadata": {},
   "outputs": [
    {
     "data": {
      "text/plain": [
       "0      535.86\n",
       "1      577.70\n",
       "2      560.10\n",
       "3      655.92\n",
       "4      645.41\n",
       "        ...  \n",
       "103    421.06\n",
       "104    417.31\n",
       "105    420.43\n",
       "106    425.99\n",
       "107    440.84\n",
       "Name: Price, Length: 108, dtype: float64"
      ]
     },
     "execution_count": 8,
     "metadata": {},
     "output_type": "execute_result"
    }
   ],
   "source": [
    "df1"
   ]
  },
  {
   "cell_type": "code",
   "execution_count": 9,
   "id": "4cb00015",
   "metadata": {},
   "outputs": [
    {
     "data": {
      "text/plain": [
       "[<matplotlib.lines.Line2D at 0x17dff7a05b0>]"
      ]
     },
     "execution_count": 9,
     "metadata": {},
     "output_type": "execute_result"
    },
    {
     "data": {
      "image/png": "[encoded data removed]",
      "text/plain": [
       "<Figure size 432x288 with 1 Axes>"
      ]
     },
     "metadata": {
      "needs_background": "light"
     },
     "output_type": "display_data"
    }
   ],
   "source": [
    "import matplotlib.pyplot as plt\n",
    "plt.plot(df1)"
   ]
  },
  {
   "cell_type": "code",
   "execution_count": 10,
   "id": "e4a24050",
   "metadata": {},
   "outputs": [],
   "source": [
    "\n",
    "import numpy as np"
   ]
  },
  {
   "cell_type": "code",
   "execution_count": 11,
   "id": "476dbea3",
   "metadata": {},
   "outputs": [
    {
     "data": {
      "text/plain": [
       "0      535.86\n",
       "1      577.70\n",
       "2      560.10\n",
       "3      655.92\n",
       "4      645.41\n",
       "        ...  \n",
       "103    421.06\n",
       "104    417.31\n",
       "105    420.43\n",
       "106    425.99\n",
       "107    440.84\n",
       "Name: Price, Length: 108, dtype: float64"
      ]
     },
     "execution_count": 11,
     "metadata": {},
     "output_type": "execute_result"
    }
   ],
   "source": [
    "df1"
   ]
  },
  {
   "cell_type": "code",
   "execution_count": 12,
   "id": "539ba22b",
   "metadata": {},
   "outputs": [],
   "source": [
    "from sklearn.preprocessing import MinMaxScaler\n",
    "scaler=MinMaxScaler(feature_range=(0,1))\n",
    "df1=scaler.fit_transform(np.array(df1).reshape(-1,1))"
   ]
  },
  {
   "cell_type": "code",
   "execution_count": 13,
   "id": "ea6890e0",
   "metadata": {},
   "outputs": [
    {
     "name": "stdout",
     "output_type": "stream",
     "text": [
      "[[0.62206373]\n",
      " [0.74904401]\n",
      " [0.69562974]\n",
      " [0.98643399]\n",
      " [0.95453718]\n",
      " [0.7169044 ]\n",
      " [0.61544765]\n",
      " [0.73289833]\n",
      " [0.68312595]\n",
      " [0.81793627]\n",
      " [0.89793627]\n",
      " [0.92828528]\n",
      " [0.7369651 ]\n",
      " [0.74904401]\n",
      " [0.72889226]\n",
      " [0.63757208]\n",
      " [0.52764795]\n",
      " [0.38743551]\n",
      " [0.35875569]\n",
      " [0.3753566 ]\n",
      " [0.39350531]\n",
      " [0.45323217]\n",
      " [0.63708649]\n",
      " [0.63550835]\n",
      " [0.85705615]\n",
      " [0.97432473]\n",
      " [0.86388467]\n",
      " [0.71050076]\n",
      " [0.65347496]\n",
      " [0.51010622]\n",
      " [0.59924127]\n",
      " [0.76509863]\n",
      " [0.73359636]\n",
      " [0.85326252]\n",
      " [0.68546282]\n",
      " [0.71144158]\n",
      " [0.26907436]\n",
      " [0.83019727]\n",
      " [0.92245827]\n",
      " [0.88673748]\n",
      " [0.69359636]\n",
      " [0.6076176 ]\n",
      " [0.69790592]\n",
      " [0.87742033]\n",
      " [0.98588771]\n",
      " [1.        ]\n",
      " [0.96965099]\n",
      " [0.82549317]\n",
      " [0.24555387]\n",
      " [0.28191199]\n",
      " [0.27827011]\n",
      " [0.29796662]\n",
      " [0.28118361]\n",
      " [0.18342944]\n",
      " [0.27353566]\n",
      " [0.35141123]\n",
      " [0.44418816]\n",
      " [0.63350531]\n",
      " [0.74646434]\n",
      " [0.74898331]\n",
      " [0.20728376]\n",
      " [0.23408194]\n",
      " [0.21717754]\n",
      " [0.13259484]\n",
      " [0.09229135]\n",
      " [0.07742033]\n",
      " [0.1616692 ]\n",
      " [0.12324734]\n",
      " [0.15329287]\n",
      " [0.22409712]\n",
      " [0.20588771]\n",
      " [0.27004552]\n",
      " [0.36707132]\n",
      " [0.32895296]\n",
      " [0.31626707]\n",
      " [0.26218513]\n",
      " [0.25875569]\n",
      " [0.23602428]\n",
      " [0.51098634]\n",
      " [0.21229135]\n",
      " [0.19641882]\n",
      " [0.31960546]\n",
      " [0.25669196]\n",
      " [0.2676783 ]\n",
      " [0.31957511]\n",
      " [0.24795144]\n",
      " [0.24215478]\n",
      " [0.19918058]\n",
      " [0.04276176]\n",
      " [0.05019727]\n",
      " [0.12373293]\n",
      " [0.24500759]\n",
      " [0.36707132]\n",
      " [0.31505311]\n",
      " [0.33875569]\n",
      " [0.33942337]\n",
      " [0.        ]\n",
      " [0.00312595]\n",
      " [0.04121396]\n",
      " [0.09969651]\n",
      " [0.0524431 ]\n",
      " [0.05930197]\n",
      " [0.10734446]\n",
      " [0.27365706]\n",
      " [0.26227618]\n",
      " [0.27174507]\n",
      " [0.28861912]\n",
      " [0.33368741]]\n"
     ]
    }
   ],
   "source": [
    "\n",
    "print(df1)"
   ]
  },
  {
   "cell_type": "code",
   "execution_count": 14,
   "id": "d1d9e05f",
   "metadata": {},
   "outputs": [],
   "source": [
    "training_size=int(len(df1)*0.65)\n",
    "test_size=len(df1)-training_size\n",
    "train_data,test_data=df1[0:training_size,:],df1[training_size:len(df1),:1]"
   ]
  },
  {
   "cell_type": "code",
   "execution_count": 15,
   "id": "57dcc561",
   "metadata": {},
   "outputs": [
    {
     "data": {
      "text/plain": [
       "(70, 38)"
      ]
     },
     "execution_count": 15,
     "metadata": {},
     "output_type": "execute_result"
    }
   ],
   "source": [
    "\n",
    "training_size,test_size"
   ]
  },
  {
   "cell_type": "code",
   "execution_count": 16,
   "id": "6f98170e",
   "metadata": {},
   "outputs": [
    {
     "data": {
      "text/plain": [
       "array([[0.62206373],\n",
       "       [0.74904401],\n",
       "       [0.69562974],\n",
       "       [0.98643399],\n",
       "       [0.95453718],\n",
       "       [0.7169044 ],\n",
       "       [0.61544765],\n",
       "       [0.73289833],\n",
       "       [0.68312595],\n",
       "       [0.81793627],\n",
       "       [0.89793627],\n",
       "       [0.92828528],\n",
       "       [0.7369651 ],\n",
       "       [0.74904401],\n",
       "       [0.72889226],\n",
       "       [0.63757208],\n",
       "       [0.52764795],\n",
       "       [0.38743551],\n",
       "       [0.35875569],\n",
       "       [0.3753566 ],\n",
       "       [0.39350531],\n",
       "       [0.45323217],\n",
       "       [0.63708649],\n",
       "       [0.63550835],\n",
       "       [0.85705615],\n",
       "       [0.97432473],\n",
       "       [0.86388467],\n",
       "       [0.71050076],\n",
       "       [0.65347496],\n",
       "       [0.51010622],\n",
       "       [0.59924127],\n",
       "       [0.76509863],\n",
       "       [0.73359636],\n",
       "       [0.85326252],\n",
       "       [0.68546282],\n",
       "       [0.71144158],\n",
       "       [0.26907436],\n",
       "       [0.83019727],\n",
       "       [0.92245827],\n",
       "       [0.88673748],\n",
       "       [0.69359636],\n",
       "       [0.6076176 ],\n",
       "       [0.69790592],\n",
       "       [0.87742033],\n",
       "       [0.98588771],\n",
       "       [1.        ],\n",
       "       [0.96965099],\n",
       "       [0.82549317],\n",
       "       [0.24555387],\n",
       "       [0.28191199],\n",
       "       [0.27827011],\n",
       "       [0.29796662],\n",
       "       [0.28118361],\n",
       "       [0.18342944],\n",
       "       [0.27353566],\n",
       "       [0.35141123],\n",
       "       [0.44418816],\n",
       "       [0.63350531],\n",
       "       [0.74646434],\n",
       "       [0.74898331],\n",
       "       [0.20728376],\n",
       "       [0.23408194],\n",
       "       [0.21717754],\n",
       "       [0.13259484],\n",
       "       [0.09229135],\n",
       "       [0.07742033],\n",
       "       [0.1616692 ],\n",
       "       [0.12324734],\n",
       "       [0.15329287],\n",
       "       [0.22409712]])"
      ]
     },
     "execution_count": 16,
     "metadata": {},
     "output_type": "execute_result"
    }
   ],
   "source": [
    "train_data"
   ]
  },
  {
   "cell_type": "code",
   "execution_count": 17,
   "id": "48d5a3d7",
   "metadata": {},
   "outputs": [],
   "source": [
    "import numpy\n",
    "# convert an array of values into a dataset matrix\n",
    "def create_dataset(dataset, time_step=1):\n",
    "\tdataX, dataY = [], []\n",
    "\tfor i in range(len(dataset)-time_step-1):\n",
    "\t\ta = dataset[i:(i+time_step), 0]   ###i=0, 0,1,2,3-----99   100 \n",
    "\t\tdataX.append(a)\n",
    "\t\tdataY.append(dataset[i + time_step, 0])\n",
    "\treturn numpy.array(dataX), numpy.array(dataY)"
   ]
  },
  {
   "cell_type": "code",
   "execution_count": 18,
   "id": "4e796f89",
   "metadata": {},
   "outputs": [],
   "source": [
    "time_step = 6\n",
    "X_train, y_train = create_dataset(train_data, time_step)\n",
    "X_test, ytest = create_dataset(test_data, time_step)"
   ]
  },
  {
   "cell_type": "code",
   "execution_count": 19,
   "id": "f441fb79",
   "metadata": {},
   "outputs": [
    {
     "name": "stdout",
     "output_type": "stream",
     "text": [
      "(63, 6)\n",
      "(63,)\n"
     ]
    },
    {
     "data": {
      "text/plain": [
       "(None, None)"
      ]
     },
     "execution_count": 19,
     "metadata": {},
     "output_type": "execute_result"
    }
   ],
   "source": [
    "print(X_train.shape), print(y_train.shape)"
   ]
  },
  {
   "cell_type": "code",
   "execution_count": 20,
   "id": "0f8a4a6d",
   "metadata": {},
   "outputs": [
    {
     "name": "stdout",
     "output_type": "stream",
     "text": [
      "(31, 6)\n",
      "(31,)\n"
     ]
    },
    {
     "data": {
      "text/plain": [
       "(None, None)"
      ]
     },
     "execution_count": 20,
     "metadata": {},
     "output_type": "execute_result"
    }
   ],
   "source": [
    "print(X_test.shape), print(ytest.shape)"
   ]
  },
  {
   "cell_type": "code",
   "execution_count": 21,
   "id": "b19a1a91",
   "metadata": {},
   "outputs": [],
   "source": [
    "\n",
    "# reshape input to be [samples, time steps, features] which is required for LSTM\n",
    "X_train =X_train.reshape(X_train.shape[0],X_train.shape[1] , 1)\n",
    "X_test = X_test.reshape(X_test.shape[0],X_test.shape[1] , 1)"
   ]
  },
  {
   "cell_type": "code",
   "execution_count": 22,
   "id": "ed19bf37",
   "metadata": {},
   "outputs": [],
   "source": [
    "from tensorflow.keras.models import Sequential\n",
    "from tensorflow.keras.layers import Dense\n",
    "from tensorflow.keras.layers import LSTM"
   ]
  },
  {
   "cell_type": "code",
   "execution_count": 23,
   "id": "83fa4cc9",
   "metadata": {},
   "outputs": [],
   "source": [
    "# model=Sequential()\n",
    "# model.add(LSTM(50,return_sequences=True,input_shape=(6,1)))\n",
    "# model.add(LSTM(50,return_sequences=True))\n",
    "# model.add(LSTM(50))\n",
    "# model.add(Dense(1))\n",
    "# model.compile(loss='mean_squared_error',optimizer='adam')\n",
    "from keras.layers import Dropout\n",
    "n_input = 12\n",
    "n_features = 1\n",
    "model = Sequential()\n",
    "model.add(LSTM(200, activation='relu', input_shape=(n_input, n_features)))\n",
    "model.add(Dropout(0.15))\n",
    "model.add(Dense(1))\n",
    "model.compile(optimizer='adam', loss='mse')"
   ]
  },
  {
   "cell_type": "code",
   "execution_count": 24,
   "id": "e3bb7cf8",
   "metadata": {},
   "outputs": [
    {
     "name": "stdout",
     "output_type": "stream",
     "text": [
      "Model: \"sequential\"\n",
      "_________________________________________________________________\n",
      "Layer (type)                 Output Shape              Param #   \n",
      "=================================================================\n",
      "lstm (LSTM)                  (None, 200)               161600    \n",
      "_________________________________________________________________\n",
      "dropout (Dropout)            (None, 200)               0         \n",
      "_________________________________________________________________\n",
      "dense (Dense)                (None, 1)                 201       \n",
      "=================================================================\n",
      "Total params: 161,801\n",
      "Trainable params: 161,801\n",
      "Non-trainable params: 0\n",
      "_________________________________________________________________\n"
     ]
    }
   ],
   "source": [
    "model.summary()"
   ]
  },
  {
   "cell_type": "code",
   "execution_count": 25,
   "id": "94377fb8",
   "metadata": {},
   "outputs": [
    {
     "name": "stdout",
     "output_type": "stream",
     "text": [
      "Model: \"sequential\"\n",
      "_________________________________________________________________\n",
      "Layer (type)                 Output Shape              Param #   \n",
      "=================================================================\n",
      "lstm (LSTM)                  (None, 200)               161600    \n",
      "_________________________________________________________________\n",
      "dropout (Dropout)            (None, 200)               0         \n",
      "_________________________________________________________________\n",
      "dense (Dense)                (None, 1)                 201       \n",
      "=================================================================\n",
      "Total params: 161,801\n",
      "Trainable params: 161,801\n",
      "Non-trainable params: 0\n",
      "_________________________________________________________________\n"
     ]
    }
   ],
   "source": [
    "model.summary()"
   ]
  },
  {
   "cell_type": "code",
   "execution_count": 26,
   "id": "c0f9609c",
   "metadata": {},
   "outputs": [
    {
     "name": "stdout",
     "output_type": "stream",
     "text": [
      "Epoch 1/100\n",
      "WARNING:tensorflow:Model was constructed with shape (None, 12, 1) for input KerasTensor(type_spec=TensorSpec(shape=(None, 12, 1), dtype=tf.float32, name='lstm_input'), name='lstm_input', description=\"created by layer 'lstm_input'\"), but it was called on an input with incompatible shape (1, 6, 1).\n",
      "WARNING:tensorflow:Model was constructed with shape (None, 12, 1) for input KerasTensor(type_spec=TensorSpec(shape=(None, 12, 1), dtype=tf.float32, name='lstm_input'), name='lstm_input', description=\"created by layer 'lstm_input'\"), but it was called on an input with incompatible shape (1, 6, 1).\n",
      "60/63 [===========================>..] - ETA: 0s - loss: 0.0820WARNING:tensorflow:Model was constructed with shape (None, 12, 1) for input KerasTensor(type_spec=TensorSpec(shape=(None, 12, 1), dtype=tf.float32, name='lstm_input'), name='lstm_input', description=\"created by layer 'lstm_input'\"), but it was called on an input with incompatible shape (1, 6, 1).\n",
      "63/63 [==============================] - 3s 15ms/step - loss: 0.0824 - val_loss: 0.0211\n",
      "Epoch 2/100\n",
      "63/63 [==============================] - 1s 8ms/step - loss: 0.0640 - val_loss: 0.0395\n",
      "Epoch 3/100\n",
      "63/63 [==============================] - 0s 7ms/step - loss: 0.0502 - val_loss: 0.0222\n",
      "Epoch 4/100\n",
      "63/63 [==============================] - 0s 7ms/step - loss: 0.0549 - val_loss: 0.0172\n",
      "Epoch 5/100\n",
      "63/63 [==============================] - 0s 7ms/step - loss: 0.0514 - val_loss: 0.0185\n",
      "Epoch 6/100\n",
      "63/63 [==============================] - 0s 7ms/step - loss: 0.0490 - val_loss: 0.0235\n",
      "Epoch 7/100\n",
      "63/63 [==============================] - 0s 7ms/step - loss: 0.0419 - val_loss: 0.0251\n",
      "Epoch 8/100\n",
      "63/63 [==============================] - 0s 7ms/step - loss: 0.0424 - val_loss: 0.0313\n",
      "Epoch 9/100\n",
      "63/63 [==============================] - 0s 7ms/step - loss: 0.0433 - val_loss: 0.0351\n",
      "Epoch 10/100\n",
      "63/63 [==============================] - 0s 7ms/step - loss: 0.0403 - val_loss: 0.0304\n",
      "Epoch 11/100\n",
      "63/63 [==============================] - 0s 7ms/step - loss: 0.0409 - val_loss: 0.0301\n",
      "Epoch 12/100\n",
      "63/63 [==============================] - 0s 7ms/step - loss: 0.0407 - val_loss: 0.0303\n",
      "Epoch 13/100\n",
      "63/63 [==============================] - 0s 7ms/step - loss: 0.0440 - val_loss: 0.0224\n",
      "Epoch 14/100\n",
      "63/63 [==============================] - 0s 7ms/step - loss: 0.0451 - val_loss: 0.0339\n",
      "Epoch 15/100\n",
      "63/63 [==============================] - 0s 7ms/step - loss: 0.0413 - val_loss: 0.0251\n",
      "Epoch 16/100\n",
      "63/63 [==============================] - 0s 7ms/step - loss: 0.0376 - val_loss: 0.0181\n",
      "Epoch 17/100\n",
      "63/63 [==============================] - 0s 7ms/step - loss: 0.0354 - val_loss: 0.0194\n",
      "Epoch 18/100\n",
      "63/63 [==============================] - 0s 7ms/step - loss: 0.0363 - val_loss: 0.0186\n",
      "Epoch 19/100\n",
      "63/63 [==============================] - 0s 7ms/step - loss: 0.0386 - val_loss: 0.0223\n",
      "Epoch 20/100\n",
      "63/63 [==============================] - 0s 7ms/step - loss: 0.0340 - val_loss: 0.0188\n",
      "Epoch 21/100\n",
      "63/63 [==============================] - 0s 7ms/step - loss: 0.0383 - val_loss: 0.0203\n",
      "Epoch 22/100\n",
      "63/63 [==============================] - ETA: 0s - loss: 0.037 - 0s 7ms/step - loss: 0.0369 - val_loss: 0.0338\n",
      "Epoch 23/100\n",
      "63/63 [==============================] - 0s 7ms/step - loss: 0.0361 - val_loss: 0.0241\n",
      "Epoch 24/100\n",
      "63/63 [==============================] - 0s 7ms/step - loss: 0.0368 - val_loss: 0.0318\n",
      "Epoch 25/100\n",
      "63/63 [==============================] - 0s 7ms/step - loss: 0.0367 - val_loss: 0.0225\n",
      "Epoch 26/100\n",
      "63/63 [==============================] - 0s 7ms/step - loss: 0.0333 - val_loss: 0.0207\n",
      "Epoch 27/100\n",
      "63/63 [==============================] - 0s 7ms/step - loss: 0.0326 - val_loss: 0.0192\n",
      "Epoch 28/100\n",
      "63/63 [==============================] - 0s 7ms/step - loss: 0.0308 - val_loss: 0.0269\n",
      "Epoch 29/100\n",
      "63/63 [==============================] - 0s 7ms/step - loss: 0.0320 - val_loss: 0.0196\n",
      "Epoch 30/100\n",
      "63/63 [==============================] - 0s 7ms/step - loss: 0.0311 - val_loss: 0.0223\n",
      "Epoch 31/100\n",
      "63/63 [==============================] - 0s 7ms/step - loss: 0.0339 - val_loss: 0.0221\n",
      "Epoch 32/100\n",
      "63/63 [==============================] - 0s 7ms/step - loss: 0.0333 - val_loss: 0.0151\n",
      "Epoch 33/100\n",
      "63/63 [==============================] - 0s 7ms/step - loss: 0.0341 - val_loss: 0.0168\n",
      "Epoch 34/100\n",
      "63/63 [==============================] - 0s 7ms/step - loss: 0.0333 - val_loss: 0.0243\n",
      "Epoch 35/100\n",
      "63/63 [==============================] - 0s 6ms/step - loss: 0.0339 - val_loss: 0.0285\n",
      "Epoch 36/100\n",
      "63/63 [==============================] - 0s 7ms/step - loss: 0.0292 - val_loss: 0.0264\n",
      "Epoch 37/100\n",
      "63/63 [==============================] - 0s 7ms/step - loss: 0.0298 - val_loss: 0.0156\n",
      "Epoch 38/100\n",
      "63/63 [==============================] - 0s 7ms/step - loss: 0.0301 - val_loss: 0.0173\n",
      "Epoch 39/100\n",
      "63/63 [==============================] - 0s 7ms/step - loss: 0.0311 - val_loss: 0.0144\n",
      "Epoch 40/100\n",
      "63/63 [==============================] - 0s 7ms/step - loss: 0.0286 - val_loss: 0.0214\n",
      "Epoch 41/100\n",
      "63/63 [==============================] - 0s 7ms/step - loss: 0.0273 - val_loss: 0.0212\n",
      "Epoch 42/100\n",
      "63/63 [==============================] - 0s 7ms/step - loss: 0.0333 - val_loss: 0.0198\n",
      "Epoch 43/100\n",
      "63/63 [==============================] - 0s 7ms/step - loss: 0.0266 - val_loss: 0.0369\n",
      "Epoch 44/100\n",
      "63/63 [==============================] - 0s 7ms/step - loss: 0.0289 - val_loss: 0.0208\n",
      "Epoch 45/100\n",
      "63/63 [==============================] - 0s 7ms/step - loss: 0.0302 - val_loss: 0.0350\n",
      "Epoch 46/100\n",
      "63/63 [==============================] - 0s 7ms/step - loss: 0.0252 - val_loss: 0.0176\n",
      "Epoch 47/100\n",
      "63/63 [==============================] - 0s 7ms/step - loss: 0.0311 - val_loss: 0.0304\n",
      "Epoch 48/100\n",
      "63/63 [==============================] - 0s 7ms/step - loss: 0.0305 - val_loss: 0.0179\n",
      "Epoch 49/100\n",
      "63/63 [==============================] - 0s 7ms/step - loss: 0.0274 - val_loss: 0.0154\n",
      "Epoch 50/100\n",
      "63/63 [==============================] - 0s 7ms/step - loss: 0.0245 - val_loss: 0.0189\n",
      "Epoch 51/100\n",
      "63/63 [==============================] - 0s 7ms/step - loss: 0.0267 - val_loss: 0.0169\n",
      "Epoch 52/100\n",
      "63/63 [==============================] - 0s 7ms/step - loss: 0.0271 - val_loss: 0.0185\n",
      "Epoch 53/100\n",
      "63/63 [==============================] - 0s 7ms/step - loss: 0.0276 - val_loss: 0.0194\n",
      "Epoch 54/100\n",
      "63/63 [==============================] - 0s 7ms/step - loss: 0.0287 - val_loss: 0.0230\n",
      "Epoch 55/100\n",
      "63/63 [==============================] - 0s 7ms/step - loss: 0.0248 - val_loss: 0.0187\n",
      "Epoch 56/100\n",
      "63/63 [==============================] - 0s 7ms/step - loss: 0.0312 - val_loss: 0.0202\n",
      "Epoch 57/100\n",
      "63/63 [==============================] - 0s 7ms/step - loss: 0.0300 - val_loss: 0.0245\n",
      "Epoch 58/100\n",
      "63/63 [==============================] - 0s 7ms/step - loss: 0.0280 - val_loss: 0.0166\n",
      "Epoch 59/100\n",
      "63/63 [==============================] - 0s 6ms/step - loss: 0.0293 - val_loss: 0.0273\n",
      "Epoch 60/100\n",
      "63/63 [==============================] - 0s 7ms/step - loss: 0.0249 - val_loss: 0.0181\n",
      "Epoch 61/100\n",
      "63/63 [==============================] - 0s 7ms/step - loss: 0.0261 - val_loss: 0.0195\n",
      "Epoch 62/100\n",
      "63/63 [==============================] - 0s 7ms/step - loss: 0.0227 - val_loss: 0.0169\n",
      "Epoch 63/100\n",
      "63/63 [==============================] - 0s 7ms/step - loss: 0.0277 - val_loss: 0.0187\n",
      "Epoch 64/100\n",
      "63/63 [==============================] - 0s 7ms/step - loss: 0.0289 - val_loss: 0.0191\n",
      "Epoch 65/100\n",
      "63/63 [==============================] - 0s 7ms/step - loss: 0.0267 - val_loss: 0.0194\n",
      "Epoch 66/100\n",
      "63/63 [==============================] - 0s 7ms/step - loss: 0.0269 - val_loss: 0.0195\n",
      "Epoch 67/100\n",
      "63/63 [==============================] - 0s 6ms/step - loss: 0.0258 - val_loss: 0.0183\n",
      "Epoch 68/100\n",
      "63/63 [==============================] - 0s 7ms/step - loss: 0.0258 - val_loss: 0.0213\n",
      "Epoch 69/100\n",
      "63/63 [==============================] - 0s 6ms/step - loss: 0.0232 - val_loss: 0.0280\n",
      "Epoch 70/100\n",
      "63/63 [==============================] - 0s 7ms/step - loss: 0.0278 - val_loss: 0.0200\n",
      "Epoch 71/100\n",
      "63/63 [==============================] - 0s 7ms/step - loss: 0.0296 - val_loss: 0.0253\n",
      "Epoch 72/100\n",
      "63/63 [==============================] - 0s 6ms/step - loss: 0.0230 - val_loss: 0.0194\n",
      "Epoch 73/100\n",
      "63/63 [==============================] - 0s 7ms/step - loss: 0.0268 - val_loss: 0.0173\n",
      "Epoch 74/100\n",
      "63/63 [==============================] - 0s 7ms/step - loss: 0.0230 - val_loss: 0.0188\n",
      "Epoch 75/100\n",
      "63/63 [==============================] - 0s 7ms/step - loss: 0.0250 - val_loss: 0.0293\n",
      "Epoch 76/100\n",
      "63/63 [==============================] - 0s 7ms/step - loss: 0.0226 - val_loss: 0.0205\n",
      "Epoch 77/100\n",
      "63/63 [==============================] - 0s 7ms/step - loss: 0.0251 - val_loss: 0.0235\n",
      "Epoch 78/100\n",
      "63/63 [==============================] - 0s 7ms/step - loss: 0.0220 - val_loss: 0.0220\n",
      "Epoch 79/100\n",
      "63/63 [==============================] - 0s 7ms/step - loss: 0.0233 - val_loss: 0.0219\n",
      "Epoch 80/100\n",
      "63/63 [==============================] - 0s 7ms/step - loss: 0.0214 - val_loss: 0.0187\n",
      "Epoch 81/100\n",
      "63/63 [==============================] - 0s 7ms/step - loss: 0.0233 - val_loss: 0.0173\n",
      "Epoch 82/100\n",
      "63/63 [==============================] - 0s 7ms/step - loss: 0.0213 - val_loss: 0.0190\n",
      "Epoch 83/100\n",
      "63/63 [==============================] - 0s 7ms/step - loss: 0.0251 - val_loss: 0.0226\n",
      "Epoch 84/100\n",
      "63/63 [==============================] - 0s 7ms/step - loss: 0.0225 - val_loss: 0.0207\n",
      "Epoch 85/100\n",
      "63/63 [==============================] - 0s 7ms/step - loss: 0.0220 - val_loss: 0.0182\n",
      "Epoch 86/100\n",
      "63/63 [==============================] - 0s 7ms/step - loss: 0.0281 - val_loss: 0.0242\n",
      "Epoch 87/100\n",
      "63/63 [==============================] - 0s 7ms/step - loss: 0.0244 - val_loss: 0.0303\n",
      "Epoch 88/100\n",
      "63/63 [==============================] - 0s 7ms/step - loss: 0.0207 - val_loss: 0.0223\n",
      "Epoch 89/100\n",
      "63/63 [==============================] - 0s 7ms/step - loss: 0.0263 - val_loss: 0.0208\n",
      "Epoch 90/100\n",
      "63/63 [==============================] - 0s 7ms/step - loss: 0.0207 - val_loss: 0.0241\n",
      "Epoch 91/100\n",
      "63/63 [==============================] - 0s 7ms/step - loss: 0.0232 - val_loss: 0.0229\n",
      "Epoch 92/100\n",
      "63/63 [==============================] - 0s 7ms/step - loss: 0.0218 - val_loss: 0.0220\n",
      "Epoch 93/100\n",
      "63/63 [==============================] - 0s 7ms/step - loss: 0.0225 - val_loss: 0.0210\n",
      "Epoch 94/100\n",
      "63/63 [==============================] - 0s 7ms/step - loss: 0.0216 - val_loss: 0.0191\n",
      "Epoch 95/100\n",
      "63/63 [==============================] - 0s 7ms/step - loss: 0.0232 - val_loss: 0.0173\n",
      "Epoch 96/100\n",
      "63/63 [==============================] - 0s 7ms/step - loss: 0.0236 - val_loss: 0.0212\n",
      "Epoch 97/100\n",
      "63/63 [==============================] - 0s 7ms/step - loss: 0.0233 - val_loss: 0.0277\n",
      "Epoch 98/100\n",
      "63/63 [==============================] - 0s 7ms/step - loss: 0.0193 - val_loss: 0.0197\n",
      "Epoch 99/100\n",
      "63/63 [==============================] - 0s 7ms/step - loss: 0.0258 - val_loss: 0.0195\n",
      "Epoch 100/100\n",
      "63/63 [==============================] - 0s 7ms/step - loss: 0.0213 - val_loss: 0.0203\n"
     ]
    },
    {
     "data": {
      "text/plain": [
       "<keras.callbacks.History at 0x17d8e90f250>"
      ]
     },
     "execution_count": 26,
     "metadata": {},
     "output_type": "execute_result"
    }
   ],
   "source": [
    "\n",
    "model.fit(X_train,y_train,validation_data=(X_test,ytest),epochs=100,batch_size=1,verbose=1)"
   ]
  },
  {
   "cell_type": "code",
   "execution_count": 27,
   "id": "9b3fe2d9",
   "metadata": {},
   "outputs": [],
   "source": [
    "import tensorflow as tf"
   ]
  },
  {
   "cell_type": "code",
   "execution_count": 28,
   "id": "d75f7b65",
   "metadata": {},
   "outputs": [
    {
     "data": {
      "text/plain": [
       "'2.6.0'"
      ]
     },
     "execution_count": 28,
     "metadata": {},
     "output_type": "execute_result"
    }
   ],
   "source": [
    "tf.__version__"
   ]
  },
  {
   "cell_type": "code",
   "execution_count": 29,
   "id": "1ff080fe",
   "metadata": {},
   "outputs": [
    {
     "name": "stdout",
     "output_type": "stream",
     "text": [
      "WARNING:tensorflow:Model was constructed with shape (None, 12, 1) for input KerasTensor(type_spec=TensorSpec(shape=(None, 12, 1), dtype=tf.float32, name='lstm_input'), name='lstm_input', description=\"created by layer 'lstm_input'\"), but it was called on an input with incompatible shape (None, 6, 1).\n"
     ]
    }
   ],
   "source": [
    "train_predict=model.predict(X_train)\n",
    "test_predict=model.predict(X_test)"
   ]
  },
  {
   "cell_type": "code",
   "execution_count": 30,
   "id": "a1722ef0",
   "metadata": {},
   "outputs": [],
   "source": [
    "train_predict=scaler.inverse_transform(train_predict)\n",
    "test_predict=scaler.inverse_transform(test_predict)"
   ]
  },
  {
   "cell_type": "code",
   "execution_count": 31,
   "id": "9a13dfe3",
   "metadata": {},
   "outputs": [
    {
     "data": {
      "text/plain": [
       "512.8156298325945"
      ]
     },
     "execution_count": 31,
     "metadata": {},
     "output_type": "execute_result"
    }
   ],
   "source": [
    "import math\n",
    "from sklearn.metrics import mean_squared_error\n",
    "math.sqrt(mean_squared_error(y_train,train_predict))"
   ]
  },
  {
   "cell_type": "code",
   "execution_count": 32,
   "id": "4d097b23",
   "metadata": {},
   "outputs": [
    {
     "data": {
      "text/plain": [
       "422.29896878397454"
      ]
     },
     "execution_count": 32,
     "metadata": {},
     "output_type": "execute_result"
    }
   ],
   "source": [
    "math.sqrt(mean_squared_error(ytest,test_predict))"
   ]
  },
  {
   "cell_type": "code",
   "execution_count": 52,
   "id": "75baadc5",
   "metadata": {},
   "outputs": [
    {
     "data": {
      "text/plain": [
       "array([0.25875569, 0.23602428, 0.51098634, 0.21229135, 0.19641882,\n",
       "       0.31960546, 0.25669196, 0.2676783 , 0.31957511, 0.24795144,\n",
       "       0.24215478, 0.19918058, 0.04276176, 0.05019727, 0.12373293,\n",
       "       0.24500759, 0.36707132, 0.31505311, 0.33875569, 0.33942337,\n",
       "       0.        , 0.00312595, 0.04121396, 0.09969651, 0.0524431 ,\n",
       "       0.05930197, 0.10734446, 0.27365706, 0.26227618, 0.27174507,\n",
       "       0.28861912])"
      ]
     },
     "execution_count": 52,
     "metadata": {},
     "output_type": "execute_result"
    }
   ],
   "source": []
  },
  {
   "cell_type": "code",
   "execution_count": 33,
   "id": "9d489101",
   "metadata": {},
   "outputs": [
    {
     "data": {
      "image/png": "[encoded data removed]",
      "text/plain": [
       "<Figure size 432x288 with 1 Axes>"
      ]
     },
     "metadata": {
      "needs_background": "light"
     },
     "output_type": "display_data"
    }
   ],
   "source": [
    "look_back=6\n",
    "trainPredictPlot = numpy.empty_like(df1)\n",
    "trainPredictPlot[:, :] = np.nan\n",
    "trainPredictPlot[look_back:len(train_predict)+look_back, :] = train_predict\n",
    "# shift test predictions for plotting\n",
    "testPredictPlot = numpy.empty_like(df1)\n",
    "testPredictPlot[:, :] = numpy.nan\n",
    "testPredictPlot[len(train_predict)+(look_back*2)+1:len(df1)-1, :] = test_predict\n",
    "# plot baseline and predictions\n",
    "plt.plot(scaler.inverse_transform(df1))\n",
    "plt.plot(trainPredictPlot)\n",
    "plt.plot(testPredictPlot)\n",
    "plt.show()"
   ]
  },
  {
   "cell_type": "code",
   "execution_count": 35,
   "id": "4a507189",
   "metadata": {},
   "outputs": [
    {
     "data": {
      "text/plain": [
       "38"
      ]
     },
     "execution_count": 35,
     "metadata": {},
     "output_type": "execute_result"
    }
   ],
   "source": [
    "len(test_data)"
   ]
  },
  {
   "cell_type": "code",
   "execution_count": 56,
   "id": "d4d3db09",
   "metadata": {},
   "outputs": [
    {
     "data": {
      "text/plain": [
       "(63, 1)"
      ]
     },
     "execution_count": 56,
     "metadata": {},
     "output_type": "execute_result"
    }
   ],
   "source": [
    "train_predict.shape"
   ]
  },
  {
   "cell_type": "code",
   "execution_count": 36,
   "id": "d1d23c62",
   "metadata": {},
   "outputs": [
    {
     "data": {
      "text/plain": [
       "(1, 6)"
      ]
     },
     "execution_count": 36,
     "metadata": {},
     "output_type": "execute_result"
    }
   ],
   "source": [
    "x_input=test_data[32:].reshape(1,-1)\n",
    "x_input.shape"
   ]
  },
  {
   "cell_type": "raw",
   "id": "8865575c",
   "metadata": {},
   "source": []
  },
  {
   "cell_type": "code",
   "execution_count": 39,
   "id": "9be53e77",
   "metadata": {},
   "outputs": [],
   "source": [
    "temp_input=list(x_input)\n",
    "temp_input=temp_input[0].tolist()"
   ]
  },
  {
   "cell_type": "code",
   "execution_count": 45,
   "id": "9237af92",
   "metadata": {},
   "outputs": [
    {
     "data": {
      "text/plain": [
       "[0.10734446130500763,\n",
       " 0.27365705614567526,\n",
       " 0.26227617602427933,\n",
       " 0.2717450682852809,\n",
       " 0.2886191198786041,\n",
       " 0.3336874051593324,\n",
       " 0.42007380723953247,\n",
       " 0.42007380723953247,\n",
       " 0.42007380723953247,\n",
       " 0.42007380723953247,\n",
       " 0.42007380723953247,\n",
       " 0.42007380723953247,\n",
       " 0.42007380723953247]"
      ]
     },
     "execution_count": 45,
     "metadata": {},
     "output_type": "execute_result"
    }
   ],
   "source": [
    "\n",
    "temp_input"
   ]
  },
  {
   "cell_type": "code",
   "execution_count": 47,
   "id": "93705579",
   "metadata": {},
   "outputs": [
    {
     "name": "stdout",
     "output_type": "stream",
     "text": [
      "0 day input [0.27365706 0.26227618 0.27174507 0.28861912 0.33368741 0.42007381\n",
      " 0.42007381 0.42007381 0.42007381 0.42007381 0.42007381 0.42007381]\n"
     ]
    },
    {
     "ename": "ValueError",
     "evalue": "cannot reshape array of size 12 into shape (1,6,1)",
     "output_type": "error",
     "traceback": [
      "\u001b[1;31m---------------------------------------------------------------------------\u001b[0m",
      "\u001b[1;31mValueError\u001b[0m                                Traceback (most recent call last)",
      "\u001b[1;32m~\\AppData\\Local\\Temp/ipykernel_4968/1624629098.py\u001b[0m in \u001b[0;36m<module>\u001b[1;34m\u001b[0m\n\u001b[0;32m     11\u001b[0m         \u001b[0mprint\u001b[0m\u001b[1;33m(\u001b[0m\u001b[1;34m\"{} day input {}\"\u001b[0m\u001b[1;33m.\u001b[0m\u001b[0mformat\u001b[0m\u001b[1;33m(\u001b[0m\u001b[0mi\u001b[0m\u001b[1;33m,\u001b[0m\u001b[0mx_input\u001b[0m\u001b[1;33m)\u001b[0m\u001b[1;33m)\u001b[0m\u001b[1;33m\u001b[0m\u001b[1;33m\u001b[0m\u001b[0m\n\u001b[0;32m     12\u001b[0m         \u001b[0mx_input\u001b[0m\u001b[1;33m=\u001b[0m\u001b[0mx_input\u001b[0m\u001b[1;33m.\u001b[0m\u001b[0mreshape\u001b[0m\u001b[1;33m(\u001b[0m\u001b[1;36m1\u001b[0m\u001b[1;33m,\u001b[0m\u001b[1;33m-\u001b[0m\u001b[1;36m1\u001b[0m\u001b[1;33m)\u001b[0m\u001b[1;33m\u001b[0m\u001b[1;33m\u001b[0m\u001b[0m\n\u001b[1;32m---> 13\u001b[1;33m         \u001b[0mx_input\u001b[0m \u001b[1;33m=\u001b[0m \u001b[0mx_input\u001b[0m\u001b[1;33m.\u001b[0m\u001b[0mreshape\u001b[0m\u001b[1;33m(\u001b[0m\u001b[1;33m(\u001b[0m\u001b[1;36m1\u001b[0m\u001b[1;33m,\u001b[0m \u001b[0mn_steps\u001b[0m\u001b[1;33m,\u001b[0m \u001b[1;36m1\u001b[0m\u001b[1;33m)\u001b[0m\u001b[1;33m)\u001b[0m\u001b[1;33m\u001b[0m\u001b[1;33m\u001b[0m\u001b[0m\n\u001b[0m\u001b[0;32m     14\u001b[0m         \u001b[1;31m#print(x_input)\u001b[0m\u001b[1;33m\u001b[0m\u001b[1;33m\u001b[0m\u001b[1;33m\u001b[0m\u001b[0m\n\u001b[0;32m     15\u001b[0m         \u001b[0myhat\u001b[0m \u001b[1;33m=\u001b[0m \u001b[0mmodel\u001b[0m\u001b[1;33m.\u001b[0m\u001b[0mpredict\u001b[0m\u001b[1;33m(\u001b[0m\u001b[0mx_input\u001b[0m\u001b[1;33m,\u001b[0m \u001b[0mverbose\u001b[0m\u001b[1;33m=\u001b[0m\u001b[1;36m0\u001b[0m\u001b[1;33m)\u001b[0m\u001b[1;33m\u001b[0m\u001b[1;33m\u001b[0m\u001b[0m\n",
      "\u001b[1;31mValueError\u001b[0m: cannot reshape array of size 12 into shape (1,6,1)"
     ]
    }
   ],
   "source": [
    "from numpy import array\n",
    "\n",
    "lst_output=[]\n",
    "n_steps=6\n",
    "i=0\n",
    "while(i<3):\n",
    "    \n",
    "    if(len(temp_input)>6):\n",
    "        #print(temp_input)\n",
    "        x_input=np.array(temp_input[1:])\n",
    "        print(\"{} day input {}\".format(i,x_input))\n",
    "        x_input=x_input.reshape(1,-1)\n",
    "        x_input = x_input.reshape((1, n_steps, 1))\n",
    "        #print(x_input)\n",
    "        yhat = model.predict(x_input, verbose=0)\n",
    "        print(\"{} day output {}\".format(i,yhat))\n",
    "        temp_input.extend(yhat[0].tolist())\n",
    "        temp_input=temp_input[1:]\n",
    "        #print(temp_input)\n",
    "        lst_output.extend(yhat.tolist())\n",
    "        i=i+1\n",
    "    else:\n",
    "        x_input = x_input.reshape((1, n_steps,1))\n",
    "        yhat = model.predict(x_input, verbose=0)\n",
    "        print(yhat[0])\n",
    "        temp_input.extend(yhat[0].tolist())\n",
    "        print(len(temp_input))\n",
    "        lst_output.extend(yhat.tolist())\n",
    "        i=i+1\n",
    "    \n",
    "\n",
    "print(lst_output)"
   ]
  },
  {
   "cell_type": "code",
   "execution_count": 48,
   "id": "0b77f848",
   "metadata": {},
   "outputs": [],
   "source": [
    "day_new=np.arange(1,16)\n",
    "day_pred=np.arange(16,18)\n"
   ]
  },
  {
   "cell_type": "code",
   "execution_count": 48,
   "id": "6952c05d",
   "metadata": {},
   "outputs": [
    {
     "ename": "TypeError",
     "evalue": "Singleton array 0.6154476479514415 cannot be considered a valid collection.",
     "output_type": "error",
     "traceback": [
      "\u001b[1;31m---------------------------------------------------------------------------\u001b[0m",
      "\u001b[1;31mTypeError\u001b[0m                                 Traceback (most recent call last)",
      "\u001b[1;32m~\\AppData\\Local\\Temp/ipykernel_10752/156285517.py\u001b[0m in \u001b[0;36m<module>\u001b[1;34m\u001b[0m\n\u001b[1;32m----> 1\u001b[1;33m \u001b[0mtrainScore\u001b[0m \u001b[1;33m=\u001b[0m \u001b[0mmath\u001b[0m\u001b[1;33m.\u001b[0m\u001b[0msqrt\u001b[0m\u001b[1;33m(\u001b[0m\u001b[0mmean_squared_error\u001b[0m\u001b[1;33m(\u001b[0m\u001b[0my_train\u001b[0m\u001b[1;33m[\u001b[0m\u001b[1;36m0\u001b[0m\u001b[1;33m]\u001b[0m\u001b[1;33m,\u001b[0m \u001b[0mtrain_predict\u001b[0m\u001b[1;33m[\u001b[0m\u001b[1;33m:\u001b[0m\u001b[1;33m,\u001b[0m\u001b[1;36m0\u001b[0m\u001b[1;33m]\u001b[0m\u001b[1;33m)\u001b[0m\u001b[1;33m)\u001b[0m\u001b[1;33m\u001b[0m\u001b[1;33m\u001b[0m\u001b[0m\n\u001b[0m\u001b[0;32m      2\u001b[0m \u001b[0mprint\u001b[0m\u001b[1;33m(\u001b[0m\u001b[0mtrainY\u001b[0m\u001b[1;33m[\u001b[0m\u001b[1;36m0\u001b[0m\u001b[1;33m]\u001b[0m\u001b[1;33m)\u001b[0m\u001b[1;33m\u001b[0m\u001b[1;33m\u001b[0m\u001b[0m\n\u001b[0;32m      3\u001b[0m \u001b[0mprint\u001b[0m\u001b[1;33m(\u001b[0m\u001b[0mtrainPredict\u001b[0m\u001b[1;33m[\u001b[0m\u001b[1;33m:\u001b[0m\u001b[1;33m,\u001b[0m\u001b[1;36m0\u001b[0m\u001b[1;33m]\u001b[0m\u001b[1;33m)\u001b[0m\u001b[1;33m\u001b[0m\u001b[1;33m\u001b[0m\u001b[0m\n\u001b[0;32m      4\u001b[0m \u001b[0mprint\u001b[0m\u001b[1;33m(\u001b[0m\u001b[1;34m'Train Score: %.2f RMSE'\u001b[0m \u001b[1;33m%\u001b[0m \u001b[1;33m(\u001b[0m\u001b[0mtrainScore\u001b[0m\u001b[1;33m)\u001b[0m\u001b[1;33m)\u001b[0m\u001b[1;33m\u001b[0m\u001b[1;33m\u001b[0m\u001b[0m\n\u001b[0;32m      5\u001b[0m \u001b[0mtestScore\u001b[0m \u001b[1;33m=\u001b[0m \u001b[0mmath\u001b[0m\u001b[1;33m.\u001b[0m\u001b[0msqrt\u001b[0m\u001b[1;33m(\u001b[0m\u001b[0mmean_squared_error\u001b[0m\u001b[1;33m(\u001b[0m\u001b[0mtestY\u001b[0m\u001b[1;33m[\u001b[0m\u001b[1;36m0\u001b[0m\u001b[1;33m]\u001b[0m\u001b[1;33m,\u001b[0m \u001b[0mtestPredict\u001b[0m\u001b[1;33m[\u001b[0m\u001b[1;33m:\u001b[0m\u001b[1;33m,\u001b[0m\u001b[1;36m0\u001b[0m\u001b[1;33m]\u001b[0m\u001b[1;33m)\u001b[0m\u001b[1;33m)\u001b[0m\u001b[1;33m\u001b[0m\u001b[1;33m\u001b[0m\u001b[0m\n",
      "\u001b[1;32mc:\\users\\user\\appdata\\local\\programs\\python\\python39\\lib\\site-packages\\sklearn\\utils\\validation.py\u001b[0m in \u001b[0;36minner_f\u001b[1;34m(*args, **kwargs)\u001b[0m\n\u001b[0;32m     61\u001b[0m             \u001b[0mextra_args\u001b[0m \u001b[1;33m=\u001b[0m \u001b[0mlen\u001b[0m\u001b[1;33m(\u001b[0m\u001b[0margs\u001b[0m\u001b[1;33m)\u001b[0m \u001b[1;33m-\u001b[0m \u001b[0mlen\u001b[0m\u001b[1;33m(\u001b[0m\u001b[0mall_args\u001b[0m\u001b[1;33m)\u001b[0m\u001b[1;33m\u001b[0m\u001b[1;33m\u001b[0m\u001b[0m\n\u001b[0;32m     62\u001b[0m             \u001b[1;32mif\u001b[0m \u001b[0mextra_args\u001b[0m \u001b[1;33m<=\u001b[0m \u001b[1;36m0\u001b[0m\u001b[1;33m:\u001b[0m\u001b[1;33m\u001b[0m\u001b[1;33m\u001b[0m\u001b[0m\n\u001b[1;32m---> 63\u001b[1;33m                 \u001b[1;32mreturn\u001b[0m \u001b[0mf\u001b[0m\u001b[1;33m(\u001b[0m\u001b[1;33m*\u001b[0m\u001b[0margs\u001b[0m\u001b[1;33m,\u001b[0m \u001b[1;33m**\u001b[0m\u001b[0mkwargs\u001b[0m\u001b[1;33m)\u001b[0m\u001b[1;33m\u001b[0m\u001b[1;33m\u001b[0m\u001b[0m\n\u001b[0m\u001b[0;32m     64\u001b[0m \u001b[1;33m\u001b[0m\u001b[0m\n\u001b[0;32m     65\u001b[0m             \u001b[1;31m# extra_args > 0\u001b[0m\u001b[1;33m\u001b[0m\u001b[1;33m\u001b[0m\u001b[1;33m\u001b[0m\u001b[0m\n",
      "\u001b[1;32mc:\\users\\user\\appdata\\local\\programs\\python\\python39\\lib\\site-packages\\sklearn\\metrics\\_regression.py\u001b[0m in \u001b[0;36mmean_squared_error\u001b[1;34m(y_true, y_pred, sample_weight, multioutput, squared)\u001b[0m\n\u001b[0;32m    333\u001b[0m     \u001b[1;36m0.825\u001b[0m\u001b[1;33m...\u001b[0m\u001b[1;33m\u001b[0m\u001b[1;33m\u001b[0m\u001b[0m\n\u001b[0;32m    334\u001b[0m     \"\"\"\n\u001b[1;32m--> 335\u001b[1;33m     y_type, y_true, y_pred, multioutput = _check_reg_targets(\n\u001b[0m\u001b[0;32m    336\u001b[0m         y_true, y_pred, multioutput)\n\u001b[0;32m    337\u001b[0m     \u001b[0mcheck_consistent_length\u001b[0m\u001b[1;33m(\u001b[0m\u001b[0my_true\u001b[0m\u001b[1;33m,\u001b[0m \u001b[0my_pred\u001b[0m\u001b[1;33m,\u001b[0m \u001b[0msample_weight\u001b[0m\u001b[1;33m)\u001b[0m\u001b[1;33m\u001b[0m\u001b[1;33m\u001b[0m\u001b[0m\n",
      "\u001b[1;32mc:\\users\\user\\appdata\\local\\programs\\python\\python39\\lib\\site-packages\\sklearn\\metrics\\_regression.py\u001b[0m in \u001b[0;36m_check_reg_targets\u001b[1;34m(y_true, y_pred, multioutput, dtype)\u001b[0m\n\u001b[0;32m     86\u001b[0m         \u001b[0mthe\u001b[0m \u001b[0mdtype\u001b[0m \u001b[0margument\u001b[0m \u001b[0mpassed\u001b[0m \u001b[0mto\u001b[0m \u001b[0mcheck_array\u001b[0m\u001b[1;33m.\u001b[0m\u001b[1;33m\u001b[0m\u001b[1;33m\u001b[0m\u001b[0m\n\u001b[0;32m     87\u001b[0m     \"\"\"\n\u001b[1;32m---> 88\u001b[1;33m     \u001b[0mcheck_consistent_length\u001b[0m\u001b[1;33m(\u001b[0m\u001b[0my_true\u001b[0m\u001b[1;33m,\u001b[0m \u001b[0my_pred\u001b[0m\u001b[1;33m)\u001b[0m\u001b[1;33m\u001b[0m\u001b[1;33m\u001b[0m\u001b[0m\n\u001b[0m\u001b[0;32m     89\u001b[0m     \u001b[0my_true\u001b[0m \u001b[1;33m=\u001b[0m \u001b[0mcheck_array\u001b[0m\u001b[1;33m(\u001b[0m\u001b[0my_true\u001b[0m\u001b[1;33m,\u001b[0m \u001b[0mensure_2d\u001b[0m\u001b[1;33m=\u001b[0m\u001b[1;32mFalse\u001b[0m\u001b[1;33m,\u001b[0m \u001b[0mdtype\u001b[0m\u001b[1;33m=\u001b[0m\u001b[0mdtype\u001b[0m\u001b[1;33m)\u001b[0m\u001b[1;33m\u001b[0m\u001b[1;33m\u001b[0m\u001b[0m\n\u001b[0;32m     90\u001b[0m     \u001b[0my_pred\u001b[0m \u001b[1;33m=\u001b[0m \u001b[0mcheck_array\u001b[0m\u001b[1;33m(\u001b[0m\u001b[0my_pred\u001b[0m\u001b[1;33m,\u001b[0m \u001b[0mensure_2d\u001b[0m\u001b[1;33m=\u001b[0m\u001b[1;32mFalse\u001b[0m\u001b[1;33m,\u001b[0m \u001b[0mdtype\u001b[0m\u001b[1;33m=\u001b[0m\u001b[0mdtype\u001b[0m\u001b[1;33m)\u001b[0m\u001b[1;33m\u001b[0m\u001b[1;33m\u001b[0m\u001b[0m\n",
      "\u001b[1;32mc:\\users\\user\\appdata\\local\\programs\\python\\python39\\lib\\site-packages\\sklearn\\utils\\validation.py\u001b[0m in \u001b[0;36mcheck_consistent_length\u001b[1;34m(*arrays)\u001b[0m\n\u001b[0;32m    314\u001b[0m     \"\"\"\n\u001b[0;32m    315\u001b[0m \u001b[1;33m\u001b[0m\u001b[0m\n\u001b[1;32m--> 316\u001b[1;33m     \u001b[0mlengths\u001b[0m \u001b[1;33m=\u001b[0m \u001b[1;33m[\u001b[0m\u001b[0m_num_samples\u001b[0m\u001b[1;33m(\u001b[0m\u001b[0mX\u001b[0m\u001b[1;33m)\u001b[0m \u001b[1;32mfor\u001b[0m \u001b[0mX\u001b[0m \u001b[1;32min\u001b[0m \u001b[0marrays\u001b[0m \u001b[1;32mif\u001b[0m \u001b[0mX\u001b[0m \u001b[1;32mis\u001b[0m \u001b[1;32mnot\u001b[0m \u001b[1;32mNone\u001b[0m\u001b[1;33m]\u001b[0m\u001b[1;33m\u001b[0m\u001b[1;33m\u001b[0m\u001b[0m\n\u001b[0m\u001b[0;32m    317\u001b[0m     \u001b[0muniques\u001b[0m \u001b[1;33m=\u001b[0m \u001b[0mnp\u001b[0m\u001b[1;33m.\u001b[0m\u001b[0munique\u001b[0m\u001b[1;33m(\u001b[0m\u001b[0mlengths\u001b[0m\u001b[1;33m)\u001b[0m\u001b[1;33m\u001b[0m\u001b[1;33m\u001b[0m\u001b[0m\n\u001b[0;32m    318\u001b[0m     \u001b[1;32mif\u001b[0m \u001b[0mlen\u001b[0m\u001b[1;33m(\u001b[0m\u001b[0muniques\u001b[0m\u001b[1;33m)\u001b[0m \u001b[1;33m>\u001b[0m \u001b[1;36m1\u001b[0m\u001b[1;33m:\u001b[0m\u001b[1;33m\u001b[0m\u001b[1;33m\u001b[0m\u001b[0m\n",
      "\u001b[1;32mc:\\users\\user\\appdata\\local\\programs\\python\\python39\\lib\\site-packages\\sklearn\\utils\\validation.py\u001b[0m in \u001b[0;36m<listcomp>\u001b[1;34m(.0)\u001b[0m\n\u001b[0;32m    314\u001b[0m     \"\"\"\n\u001b[0;32m    315\u001b[0m \u001b[1;33m\u001b[0m\u001b[0m\n\u001b[1;32m--> 316\u001b[1;33m     \u001b[0mlengths\u001b[0m \u001b[1;33m=\u001b[0m \u001b[1;33m[\u001b[0m\u001b[0m_num_samples\u001b[0m\u001b[1;33m(\u001b[0m\u001b[0mX\u001b[0m\u001b[1;33m)\u001b[0m \u001b[1;32mfor\u001b[0m \u001b[0mX\u001b[0m \u001b[1;32min\u001b[0m \u001b[0marrays\u001b[0m \u001b[1;32mif\u001b[0m \u001b[0mX\u001b[0m \u001b[1;32mis\u001b[0m \u001b[1;32mnot\u001b[0m \u001b[1;32mNone\u001b[0m\u001b[1;33m]\u001b[0m\u001b[1;33m\u001b[0m\u001b[1;33m\u001b[0m\u001b[0m\n\u001b[0m\u001b[0;32m    317\u001b[0m     \u001b[0muniques\u001b[0m \u001b[1;33m=\u001b[0m \u001b[0mnp\u001b[0m\u001b[1;33m.\u001b[0m\u001b[0munique\u001b[0m\u001b[1;33m(\u001b[0m\u001b[0mlengths\u001b[0m\u001b[1;33m)\u001b[0m\u001b[1;33m\u001b[0m\u001b[1;33m\u001b[0m\u001b[0m\n\u001b[0;32m    318\u001b[0m     \u001b[1;32mif\u001b[0m \u001b[0mlen\u001b[0m\u001b[1;33m(\u001b[0m\u001b[0muniques\u001b[0m\u001b[1;33m)\u001b[0m \u001b[1;33m>\u001b[0m \u001b[1;36m1\u001b[0m\u001b[1;33m:\u001b[0m\u001b[1;33m\u001b[0m\u001b[1;33m\u001b[0m\u001b[0m\n",
      "\u001b[1;32mc:\\users\\user\\appdata\\local\\programs\\python\\python39\\lib\\site-packages\\sklearn\\utils\\validation.py\u001b[0m in \u001b[0;36m_num_samples\u001b[1;34m(x)\u001b[0m\n\u001b[0;32m    257\u001b[0m     \u001b[1;32mif\u001b[0m \u001b[0mhasattr\u001b[0m\u001b[1;33m(\u001b[0m\u001b[0mx\u001b[0m\u001b[1;33m,\u001b[0m \u001b[1;34m'shape'\u001b[0m\u001b[1;33m)\u001b[0m \u001b[1;32mand\u001b[0m \u001b[0mx\u001b[0m\u001b[1;33m.\u001b[0m\u001b[0mshape\u001b[0m \u001b[1;32mis\u001b[0m \u001b[1;32mnot\u001b[0m \u001b[1;32mNone\u001b[0m\u001b[1;33m:\u001b[0m\u001b[1;33m\u001b[0m\u001b[1;33m\u001b[0m\u001b[0m\n\u001b[0;32m    258\u001b[0m         \u001b[1;32mif\u001b[0m \u001b[0mlen\u001b[0m\u001b[1;33m(\u001b[0m\u001b[0mx\u001b[0m\u001b[1;33m.\u001b[0m\u001b[0mshape\u001b[0m\u001b[1;33m)\u001b[0m \u001b[1;33m==\u001b[0m \u001b[1;36m0\u001b[0m\u001b[1;33m:\u001b[0m\u001b[1;33m\u001b[0m\u001b[1;33m\u001b[0m\u001b[0m\n\u001b[1;32m--> 259\u001b[1;33m             raise TypeError(\"Singleton array %r cannot be considered\"\n\u001b[0m\u001b[0;32m    260\u001b[0m                             \" a valid collection.\" % x)\n\u001b[0;32m    261\u001b[0m         \u001b[1;31m# Check that shape is returning an integer or default to len\u001b[0m\u001b[1;33m\u001b[0m\u001b[1;33m\u001b[0m\u001b[1;33m\u001b[0m\u001b[0m\n",
      "\u001b[1;31mTypeError\u001b[0m: Singleton array 0.6154476479514415 cannot be considered a valid collection."
     ]
    }
   ],
   "source": [
    "trainScore = math.sqrt(mean_squared_error(y_train[0], train_predict[:,0]))\n",
    "print(trainY[0])\n",
    "print(trainPredict[:,0])\n",
    "print('Train Score: %.2f RMSE' % (trainScore))\n",
    "testScore = math.sqrt(mean_squared_error(testY[0], testPredict[:,0]))\n",
    "print(testY[0])\n",
    "print(testPredict[:,0])\n",
    "print('Test Score: %.2f RMSE' % (testScore))"
   ]
  },
  {
   "cell_type": "code",
   "execution_count": 49,
   "id": "e12a84ca",
   "metadata": {},
   "outputs": [],
   "source": [
    "import matplotlib.pyplot as plt"
   ]
  },
  {
   "cell_type": "code",
   "execution_count": 50,
   "id": "ea7cb263",
   "metadata": {},
   "outputs": [
    {
     "data": {
      "text/plain": [
       "108"
      ]
     },
     "execution_count": 50,
     "metadata": {},
     "output_type": "execute_result"
    }
   ],
   "source": [
    "len(df1)\n"
   ]
  },
  {
   "cell_type": "code",
   "execution_count": 51,
   "id": "33880922",
   "metadata": {},
   "outputs": [
    {
     "ename": "ValueError",
     "evalue": "x and y must have same first dimension, but have shapes (15,) and (98, 1)",
     "output_type": "error",
     "traceback": [
      "\u001b[1;31m---------------------------------------------------------------------------\u001b[0m",
      "\u001b[1;31mValueError\u001b[0m                                Traceback (most recent call last)",
      "\u001b[1;32m~\\AppData\\Local\\Temp/ipykernel_4968/500280746.py\u001b[0m in \u001b[0;36m<module>\u001b[1;34m\u001b[0m\n\u001b[1;32m----> 1\u001b[1;33m \u001b[0mplt\u001b[0m\u001b[1;33m.\u001b[0m\u001b[0mplot\u001b[0m\u001b[1;33m(\u001b[0m\u001b[0mday_new\u001b[0m\u001b[1;33m,\u001b[0m\u001b[0mscaler\u001b[0m\u001b[1;33m.\u001b[0m\u001b[0minverse_transform\u001b[0m\u001b[1;33m(\u001b[0m\u001b[0mdf1\u001b[0m\u001b[1;33m[\u001b[0m\u001b[1;36m10\u001b[0m\u001b[1;33m:\u001b[0m\u001b[1;33m]\u001b[0m\u001b[1;33m)\u001b[0m\u001b[1;33m)\u001b[0m\u001b[1;33m\u001b[0m\u001b[1;33m\u001b[0m\u001b[0m\n\u001b[0m\u001b[0;32m      2\u001b[0m \u001b[0mplt\u001b[0m\u001b[1;33m.\u001b[0m\u001b[0mplot\u001b[0m\u001b[1;33m(\u001b[0m\u001b[0mday_pred\u001b[0m\u001b[1;33m,\u001b[0m\u001b[0mscaler\u001b[0m\u001b[1;33m.\u001b[0m\u001b[0minverse_transform\u001b[0m\u001b[1;33m(\u001b[0m\u001b[0mlst_output\u001b[0m\u001b[1;33m)\u001b[0m\u001b[1;33m)\u001b[0m\u001b[1;33m\u001b[0m\u001b[1;33m\u001b[0m\u001b[0m\n",
      "\u001b[1;32mc:\\users\\user\\appdata\\local\\programs\\python\\python39\\lib\\site-packages\\matplotlib\\pyplot.py\u001b[0m in \u001b[0;36mplot\u001b[1;34m(scalex, scaley, data, *args, **kwargs)\u001b[0m\n\u001b[0;32m   3017\u001b[0m \u001b[1;33m@\u001b[0m\u001b[0m_copy_docstring_and_deprecators\u001b[0m\u001b[1;33m(\u001b[0m\u001b[0mAxes\u001b[0m\u001b[1;33m.\u001b[0m\u001b[0mplot\u001b[0m\u001b[1;33m)\u001b[0m\u001b[1;33m\u001b[0m\u001b[1;33m\u001b[0m\u001b[0m\n\u001b[0;32m   3018\u001b[0m \u001b[1;32mdef\u001b[0m \u001b[0mplot\u001b[0m\u001b[1;33m(\u001b[0m\u001b[1;33m*\u001b[0m\u001b[0margs\u001b[0m\u001b[1;33m,\u001b[0m \u001b[0mscalex\u001b[0m\u001b[1;33m=\u001b[0m\u001b[1;32mTrue\u001b[0m\u001b[1;33m,\u001b[0m \u001b[0mscaley\u001b[0m\u001b[1;33m=\u001b[0m\u001b[1;32mTrue\u001b[0m\u001b[1;33m,\u001b[0m \u001b[0mdata\u001b[0m\u001b[1;33m=\u001b[0m\u001b[1;32mNone\u001b[0m\u001b[1;33m,\u001b[0m \u001b[1;33m**\u001b[0m\u001b[0mkwargs\u001b[0m\u001b[1;33m)\u001b[0m\u001b[1;33m:\u001b[0m\u001b[1;33m\u001b[0m\u001b[1;33m\u001b[0m\u001b[0m\n\u001b[1;32m-> 3019\u001b[1;33m     return gca().plot(\n\u001b[0m\u001b[0;32m   3020\u001b[0m         \u001b[1;33m*\u001b[0m\u001b[0margs\u001b[0m\u001b[1;33m,\u001b[0m \u001b[0mscalex\u001b[0m\u001b[1;33m=\u001b[0m\u001b[0mscalex\u001b[0m\u001b[1;33m,\u001b[0m \u001b[0mscaley\u001b[0m\u001b[1;33m=\u001b[0m\u001b[0mscaley\u001b[0m\u001b[1;33m,\u001b[0m\u001b[1;33m\u001b[0m\u001b[1;33m\u001b[0m\u001b[0m\n\u001b[0;32m   3021\u001b[0m         **({\"data\": data} if data is not None else {}), **kwargs)\n",
      "\u001b[1;32mc:\\users\\user\\appdata\\local\\programs\\python\\python39\\lib\\site-packages\\matplotlib\\axes\\_axes.py\u001b[0m in \u001b[0;36mplot\u001b[1;34m(self, scalex, scaley, data, *args, **kwargs)\u001b[0m\n\u001b[0;32m   1603\u001b[0m         \"\"\"\n\u001b[0;32m   1604\u001b[0m         \u001b[0mkwargs\u001b[0m \u001b[1;33m=\u001b[0m \u001b[0mcbook\u001b[0m\u001b[1;33m.\u001b[0m\u001b[0mnormalize_kwargs\u001b[0m\u001b[1;33m(\u001b[0m\u001b[0mkwargs\u001b[0m\u001b[1;33m,\u001b[0m \u001b[0mmlines\u001b[0m\u001b[1;33m.\u001b[0m\u001b[0mLine2D\u001b[0m\u001b[1;33m)\u001b[0m\u001b[1;33m\u001b[0m\u001b[1;33m\u001b[0m\u001b[0m\n\u001b[1;32m-> 1605\u001b[1;33m         \u001b[0mlines\u001b[0m \u001b[1;33m=\u001b[0m \u001b[1;33m[\u001b[0m\u001b[1;33m*\u001b[0m\u001b[0mself\u001b[0m\u001b[1;33m.\u001b[0m\u001b[0m_get_lines\u001b[0m\u001b[1;33m(\u001b[0m\u001b[1;33m*\u001b[0m\u001b[0margs\u001b[0m\u001b[1;33m,\u001b[0m \u001b[0mdata\u001b[0m\u001b[1;33m=\u001b[0m\u001b[0mdata\u001b[0m\u001b[1;33m,\u001b[0m \u001b[1;33m**\u001b[0m\u001b[0mkwargs\u001b[0m\u001b[1;33m)\u001b[0m\u001b[1;33m]\u001b[0m\u001b[1;33m\u001b[0m\u001b[1;33m\u001b[0m\u001b[0m\n\u001b[0m\u001b[0;32m   1606\u001b[0m         \u001b[1;32mfor\u001b[0m \u001b[0mline\u001b[0m \u001b[1;32min\u001b[0m \u001b[0mlines\u001b[0m\u001b[1;33m:\u001b[0m\u001b[1;33m\u001b[0m\u001b[1;33m\u001b[0m\u001b[0m\n\u001b[0;32m   1607\u001b[0m             \u001b[0mself\u001b[0m\u001b[1;33m.\u001b[0m\u001b[0madd_line\u001b[0m\u001b[1;33m(\u001b[0m\u001b[0mline\u001b[0m\u001b[1;33m)\u001b[0m\u001b[1;33m\u001b[0m\u001b[1;33m\u001b[0m\u001b[0m\n",
      "\u001b[1;32mc:\\users\\user\\appdata\\local\\programs\\python\\python39\\lib\\site-packages\\matplotlib\\axes\\_base.py\u001b[0m in \u001b[0;36m__call__\u001b[1;34m(self, data, *args, **kwargs)\u001b[0m\n\u001b[0;32m    313\u001b[0m                 \u001b[0mthis\u001b[0m \u001b[1;33m+=\u001b[0m \u001b[0margs\u001b[0m\u001b[1;33m[\u001b[0m\u001b[1;36m0\u001b[0m\u001b[1;33m]\u001b[0m\u001b[1;33m,\u001b[0m\u001b[1;33m\u001b[0m\u001b[1;33m\u001b[0m\u001b[0m\n\u001b[0;32m    314\u001b[0m                 \u001b[0margs\u001b[0m \u001b[1;33m=\u001b[0m \u001b[0margs\u001b[0m\u001b[1;33m[\u001b[0m\u001b[1;36m1\u001b[0m\u001b[1;33m:\u001b[0m\u001b[1;33m]\u001b[0m\u001b[1;33m\u001b[0m\u001b[1;33m\u001b[0m\u001b[0m\n\u001b[1;32m--> 315\u001b[1;33m             \u001b[1;32myield\u001b[0m \u001b[1;32mfrom\u001b[0m \u001b[0mself\u001b[0m\u001b[1;33m.\u001b[0m\u001b[0m_plot_args\u001b[0m\u001b[1;33m(\u001b[0m\u001b[0mthis\u001b[0m\u001b[1;33m,\u001b[0m \u001b[0mkwargs\u001b[0m\u001b[1;33m)\u001b[0m\u001b[1;33m\u001b[0m\u001b[1;33m\u001b[0m\u001b[0m\n\u001b[0m\u001b[0;32m    316\u001b[0m \u001b[1;33m\u001b[0m\u001b[0m\n\u001b[0;32m    317\u001b[0m     \u001b[1;32mdef\u001b[0m \u001b[0mget_next_color\u001b[0m\u001b[1;33m(\u001b[0m\u001b[0mself\u001b[0m\u001b[1;33m)\u001b[0m\u001b[1;33m:\u001b[0m\u001b[1;33m\u001b[0m\u001b[1;33m\u001b[0m\u001b[0m\n",
      "\u001b[1;32mc:\\users\\user\\appdata\\local\\programs\\python\\python39\\lib\\site-packages\\matplotlib\\axes\\_base.py\u001b[0m in \u001b[0;36m_plot_args\u001b[1;34m(self, tup, kwargs, return_kwargs)\u001b[0m\n\u001b[0;32m    499\u001b[0m \u001b[1;33m\u001b[0m\u001b[0m\n\u001b[0;32m    500\u001b[0m         \u001b[1;32mif\u001b[0m \u001b[0mx\u001b[0m\u001b[1;33m.\u001b[0m\u001b[0mshape\u001b[0m\u001b[1;33m[\u001b[0m\u001b[1;36m0\u001b[0m\u001b[1;33m]\u001b[0m \u001b[1;33m!=\u001b[0m \u001b[0my\u001b[0m\u001b[1;33m.\u001b[0m\u001b[0mshape\u001b[0m\u001b[1;33m[\u001b[0m\u001b[1;36m0\u001b[0m\u001b[1;33m]\u001b[0m\u001b[1;33m:\u001b[0m\u001b[1;33m\u001b[0m\u001b[1;33m\u001b[0m\u001b[0m\n\u001b[1;32m--> 501\u001b[1;33m             raise ValueError(f\"x and y must have same first dimension, but \"\n\u001b[0m\u001b[0;32m    502\u001b[0m                              f\"have shapes {x.shape} and {y.shape}\")\n\u001b[0;32m    503\u001b[0m         \u001b[1;32mif\u001b[0m \u001b[0mx\u001b[0m\u001b[1;33m.\u001b[0m\u001b[0mndim\u001b[0m \u001b[1;33m>\u001b[0m \u001b[1;36m2\u001b[0m \u001b[1;32mor\u001b[0m \u001b[0my\u001b[0m\u001b[1;33m.\u001b[0m\u001b[0mndim\u001b[0m \u001b[1;33m>\u001b[0m \u001b[1;36m2\u001b[0m\u001b[1;33m:\u001b[0m\u001b[1;33m\u001b[0m\u001b[1;33m\u001b[0m\u001b[0m\n",
      "\u001b[1;31mValueError\u001b[0m: x and y must have same first dimension, but have shapes (15,) and (98, 1)"
     ]
    },
    {
     "data": {
      "image/png": "[encoded data removed]",
      "text/plain": [
       "<Figure size 432x288 with 1 Axes>"
      ]
     },
     "metadata": {
      "needs_background": "light"
     },
     "output_type": "display_data"
    }
   ],
   "source": [
    "plt.plot(day_new,scaler.inverse_transform(df1[10:]))\n",
    "plt.plot(day_pred,scaler.inverse_transform(lst_output))"
   ]
  },
  {
   "cell_type": "code",
   "execution_count": null,
   "id": "924388b8",
   "metadata": {},
   "outputs": [],
   "source": [
    "\n",
    "df3=df1.tolist()\n",
    "df3.extend(lst_output)\n",
    "plt.plot(df3[1200:])"
   ]
  },
  {
   "cell_type": "code",
   "execution_count": null,
   "id": "a7b04a65",
   "metadata": {},
   "outputs": [],
   "source": [
    "df3=scaler.inverse_transform(df3).tolist()"
   ]
  },
  {
   "cell_type": "code",
   "execution_count": null,
   "id": "14698c32",
   "metadata": {},
   "outputs": [],
   "source": [
    "plt.plot(df3)\n"
   ]
  }
 ],
 "metadata": {
  "kernelspec": {
   "display_name": "Python 3 (ipykernel)",
   "language": "python",
   "name": "python3"
  },
  "language_info": {
   "codemirror_mode": {
    "name": "ipython",
    "version": 3
   },
   "file_extension": ".py",
   "mimetype": "text/x-python",
   "name": "python",
   "nbconvert_exporter": "python",
   "pygments_lexer": "ipython3",
   "version": "3.9.0"
  }
 },
 "nbformat": 4,
 "nbformat_minor": 5
}
